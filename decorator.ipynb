{
 "cells": [
  {
   "cell_type": "code",
   "execution_count": 5,
   "id": "8e519ffe",
   "metadata": {},
   "outputs": [
    {
     "name": "stdout",
     "output_type": "stream",
     "text": [
      "1 2\n",
      "[2, 8]\n"
     ]
    }
   ],
   "source": [
    "x=list(map(int,input().split(\" \")))\n",
    "x=list(map(lambda x:x**x*2,x))\n",
    "print(x)"
   ]
  },
  {
   "cell_type": "code",
   "execution_count": 1,
   "id": "8eaa8947",
   "metadata": {},
   "outputs": [
    {
     "ename": "SyntaxError",
     "evalue": "invalid syntax (313279653.py, line 2)",
     "output_type": "error",
     "traceback": [
      "\u001b[1;36m  Input \u001b[1;32mIn [1]\u001b[1;36m\u001b[0m\n\u001b[1;33m    x=list(map(lambda x:))\u001b[0m\n\u001b[1;37m                        ^\u001b[0m\n\u001b[1;31mSyntaxError\u001b[0m\u001b[1;31m:\u001b[0m invalid syntax\n"
     ]
    }
   ],
   "source": [
    "x=lt(map(int,input().split(\" \")))\n",
    "x=list(map(lambda x:))\n",
    "print(x)is"
   ]
  },
  {
   "cell_type": "code",
   "execution_count": 6,
   "id": "67b2a9fd",
   "metadata": {},
   "outputs": [
    {
     "name": "stdout",
     "output_type": "stream",
     "text": [
      "1 2 3 \n",
      "[1, 1, 1]\n"
     ]
    }
   ],
   "source": [
    "inpt=[int(item)for item in input().split()]\n",
    "op=[inpt[i]-inpt[i-1] if i > 0 else inpt[i] for i in range(len(inpt))]\n",
    "print(op)"
   ]
  },
  {
   "cell_type": "code",
   "execution_count": 8,
   "id": "35efd698",
   "metadata": {},
   "outputs": [
    {
     "name": "stdout",
     "output_type": "stream",
     "text": [
      "[1, 3, 5, 7]\n"
     ]
    }
   ],
   "source": [
    "z=[1,2,3,4]\n",
    "op=[z[0]]+[x+y for x,y in (zip(z[1:],z[:-1]))]\n",
    "print(op)"
   ]
  },
  {
   "cell_type": "code",
   "execution_count": 9,
   "id": "de8360e7",
   "metadata": {},
   "outputs": [
    {
     "name": "stdout",
     "output_type": "stream",
     "text": [
      "3\n"
     ]
    }
   ],
   "source": [
    "a=[5,8,15,19]\n",
    "x=a[1] - a[0]\n",
    "print(x)\n"
   ]
  },
  {
   "cell_type": "code",
   "execution_count": 116,
   "id": "81f3d2b7",
   "metadata": {},
   "outputs": [
    {
     "ename": "TypeError",
     "evalue": "'list' object cannot be interpreted as an integer",
     "output_type": "error",
     "traceback": [
      "\u001b[1;31m---------------------------------------------------------------------------\u001b[0m",
      "\u001b[1;31mTypeError\u001b[0m                                 Traceback (most recent call last)",
      "Input \u001b[1;32mIn [116]\u001b[0m, in \u001b[0;36m<cell line: 2>\u001b[1;34m()\u001b[0m\n\u001b[0;32m      1\u001b[0m a\u001b[38;5;241m=\u001b[39m[\u001b[38;5;241m5\u001b[39m,\u001b[38;5;241m8\u001b[39m,\u001b[38;5;241m15\u001b[39m,\u001b[38;5;241m19\u001b[39m]\n\u001b[1;32m----> 2\u001b[0m x\u001b[38;5;241m=\u001b[39m[i \u001b[38;5;28;01mfor\u001b[39;00m i \u001b[38;5;129;01min\u001b[39;00m \u001b[38;5;28;43mrange\u001b[39;49m\u001b[43m(\u001b[49m\u001b[43ma\u001b[49m\u001b[43m)\u001b[49m \u001b[38;5;28;01mfor\u001b[39;00m j \u001b[38;5;129;01min\u001b[39;00m \u001b[38;5;28mrange\u001b[39m(\u001b[38;5;241m1\u001b[39m,i\u001b[38;5;241m-\u001b[39mi)]\n",
      "\u001b[1;31mTypeError\u001b[0m: 'list' object cannot be interpreted as an integer"
     ]
    }
   ],
   "source": [
    "a=[5,8,15,19]\n",
    "x=[for i in range()]"
   ]
  },
  {
   "cell_type": "code",
   "execution_count": 10,
   "id": "971e4dd2",
   "metadata": {},
   "outputs": [
    {
     "ename": "TypeError",
     "evalue": "can't multiply sequence by non-int of type 'list'",
     "output_type": "error",
     "traceback": [
      "\u001b[1;31m---------------------------------------------------------------------------\u001b[0m",
      "\u001b[1;31mTypeError\u001b[0m                                 Traceback (most recent call last)",
      "Input \u001b[1;32mIn [10]\u001b[0m, in \u001b[0;36m<cell line: 2>\u001b[1;34m()\u001b[0m\n\u001b[0;32m      1\u001b[0m x\u001b[38;5;241m=\u001b[39m[\u001b[38;5;241m1\u001b[39m,\u001b[38;5;241m2\u001b[39m,\u001b[38;5;241m3\u001b[39m,\u001b[38;5;241m4\u001b[39m]\n\u001b[1;32m----> 2\u001b[0m \u001b[38;5;28;01mif\u001b[39;00m \u001b[43mx\u001b[49m\u001b[43m \u001b[49m\u001b[38;5;241;43m*\u001b[39;49m\u001b[43m \u001b[49m\u001b[43mx\u001b[49m:\n\u001b[0;32m      3\u001b[0m     \u001b[38;5;28mprint\u001b[39m(x)\n",
      "\u001b[1;31mTypeError\u001b[0m: can't multiply sequence by non-int of type 'list'"
     ]
    }
   ],
   "source": [
    "x=[1,2,3,4]\n",
    "if x * x:\n",
    "    print(x)"
   ]
  },
  {
   "cell_type": "code",
   "execution_count": 13,
   "id": "b9204cad",
   "metadata": {},
   "outputs": [
    {
     "name": "stdout",
     "output_type": "stream",
     "text": [
      "{'a': 50, 'b': 65}\n"
     ]
    }
   ],
   "source": [
    "d={\"a\":45,\"b\":65,\"A\":5}\n",
    "a={i.lower():d.get(i.lower())+d.get(i.upper(),0)for i in d}        \n",
    "print(a)"
   ]
  },
  {
   "cell_type": "code",
   "execution_count": 195,
   "id": "9a925fd3",
   "metadata": {},
   "outputs": [
    {
     "name": "stdout",
     "output_type": "stream",
     "text": [
      "1\n",
      "3\n",
      "5\n",
      "7\n"
     ]
    }
   ],
   "source": [
    "class InfIter:\n",
    "    def __iter__(self):\n",
    "        self.num = 1\n",
    "        return self\n",
    "\n",
    "    def __next__(self):\n",
    "        num = self.num\n",
    "        self.num += 2\n",
    "        return num\n",
    "    \n",
    "obj=InfIter()\n",
    "var=iter(obj)\n",
    "print(next(obj))\n",
    "print(next(obj))\n",
    "print(next(obj))\n",
    "print(next(obj))\n"
   ]
  },
  {
   "cell_type": "code",
   "execution_count": 1,
   "id": "0f6c12b6",
   "metadata": {},
   "outputs": [
    {
     "name": "stdout",
     "output_type": "stream",
     "text": [
      "Largest element is: 17\n"
     ]
    }
   ],
   "source": [
    "list1 = [1,3,14,17]\n",
    "print(\"Largest element is:\", max(list1))"
   ]
  },
  {
   "cell_type": "code",
   "execution_count": 226,
   "id": "64344300",
   "metadata": {},
   "outputs": [
    {
     "name": "stdout",
     "output_type": "stream",
     "text": [
      "80\n"
     ]
    }
   ],
   "source": [
    "list1 = [1,3,14,17,51,80,19]\n",
    "x=0\n",
    "for i in list1:\n",
    "    if i>x:\n",
    "        x=i\n",
    "print(x)"
   ]
  },
  {
   "cell_type": "code",
   "execution_count": 19,
   "id": "0636efd7",
   "metadata": {},
   "outputs": [
    {
     "name": "stdout",
     "output_type": "stream",
     "text": [
      "[1, 3, 7, 10, 15]\n"
     ]
    }
   ],
   "source": [
    "list1 = [1,10,7,15,3]\n",
    "for i in range(len(list1)):\n",
    "    for j in range(i+1,len(list1)):\n",
    "        if list1[i]>list1[j]:\n",
    "              list1[i],list1[j]=list1[j],list1[i]\n",
    "print(list1)"
   ]
  },
  {
   "cell_type": "code",
   "execution_count": 9,
   "id": "048833ea",
   "metadata": {},
   "outputs": [
    {
     "name": "stdout",
     "output_type": "stream",
     "text": [
      "6\n"
     ]
    }
   ],
   "source": [
    "def smart_divide(func):\n",
    "    def inner(a, b):\n",
    "        return func(a, b)\n",
    "    return inner\n",
    "\n",
    "\n",
    "@smart_divide\n",
    "def divide(a, b):\n",
    "    print(a+b)\n",
    "    \n",
    "obj=divide(4,2)"
   ]
  },
  {
   "cell_type": "code",
   "execution_count": 18,
   "id": "2fb46b52",
   "metadata": {},
   "outputs": [
    {
     "name": "stdout",
     "output_type": "stream",
     "text": [
      "******************************\n",
      "%%%%%%%%%%%%%%%%%%%%%%%%%%%%%%\n",
      "Hello\n",
      "%%%%%%%%%%%%%%%%%%%%%%%%%%%%%%\n",
      "******************************\n"
     ]
    }
   ],
   "source": [
    "def star(func):\n",
    "    def inner(arg):\n",
    "        print(\"*\" * 30)\n",
    "        func(arg)\n",
    "        print(\"*\" * 30)\n",
    "    return inner\n",
    "\n",
    "\n",
    "def percent(func):\n",
    "    def inner(arg):\n",
    "        print(\"%\" * 30)\n",
    "        func(arg)\n",
    "        print(\"%\" * 30)\n",
    "    return inner\n",
    "\n",
    "\n",
    "@star\n",
    "@percent\n",
    "def printer(msg):\n",
    "    print(msg)\n",
    "printer(\"Hello\")"
   ]
  },
  {
   "cell_type": "code",
   "execution_count": 12,
   "id": "5daf7333",
   "metadata": {},
   "outputs": [
    {
     "name": "stdout",
     "output_type": "stream",
     "text": [
      "[0, 0.5, 30, 56, 120, 254]\n"
     ]
    }
   ],
   "source": [
    "a=[254,56,120,30,0.5,0]\n",
    "a.sort()\n",
    "x=a[-2]\n",
    "print(a)\n"
   ]
  },
  {
   "cell_type": "code",
   "execution_count": 23,
   "id": "095a9f95",
   "metadata": {},
   "outputs": [
    {
     "name": "stdout",
     "output_type": "stream",
     "text": [
      "e is present\n"
     ]
    }
   ],
   "source": [
    "a=\"hello world\"\n",
    "if \"e\" in a:\n",
    "    print(\"e is present\")\n",
    "else:\n",
    "    pass"
   ]
  },
  {
   "cell_type": "code",
   "execution_count": 32,
   "id": "7beecce8",
   "metadata": {},
   "outputs": [
    {
     "name": "stdout",
     "output_type": "stream",
     "text": [
      "True\n"
     ]
    }
   ],
   "source": [
    "a={\"abc\":455,\"kbc\":105}\n",
    "if \"kbc\" in a:\n",
    "    print(\"True\")\n",
    "else:\n",
    "    print(\"False\")"
   ]
  },
  {
   "cell_type": "code",
   "execution_count": 11,
   "id": "38b3d796",
   "metadata": {},
   "outputs": [
    {
     "name": "stdout",
     "output_type": "stream",
     "text": [
      "{'Ali': 91}\n"
     ]
    }
   ],
   "source": [
    "s={\"Ali\":{\"score\":91},\"Akbar\":{\"score\":70},\"Bilal\":{\"score\":81}}\n",
    "x=0\n",
    "st=''\n",
    "for i in s:\n",
    "    score=s.get(i)[\"score\"]\n",
    "    if score>x:\n",
    "        x=score\n",
    "        st=i\n",
    "print({st:x})\n",
    "        "
   ]
  },
  {
   "cell_type": "code",
   "execution_count": 34,
   "id": "83e3d1d4",
   "metadata": {},
   "outputs": [
    {
     "name": "stdout",
     "output_type": "stream",
     "text": [
      "True\n"
     ]
    }
   ],
   "source": [
    "print(105 in a.values())"
   ]
  },
  {
   "cell_type": "code",
   "execution_count": 41,
   "id": "35d7fd05",
   "metadata": {},
   "outputs": [
    {
     "name": "stdout",
     "output_type": "stream",
     "text": [
      "['Bmw', 'View', 'Skoda', 'Unicom']\n"
     ]
    }
   ],
   "source": [
    "a=[\"View\",\"Bmw\",\"Skoda\",\"Unicom\"]\n",
    "a.sort(key=len)\n",
    "print(a)"
   ]
  },
  {
   "cell_type": "code",
   "execution_count": 11,
   "id": "45b93a36",
   "metadata": {},
   "outputs": [
    {
     "name": "stdout",
     "output_type": "stream",
     "text": [
      "{'Bilal': 81}\n"
     ]
    }
   ],
   "source": [
    "s={\"Ali\":{\"score\":10},\"Akbar\":{\"score\":70},\"Bilal\":{\"score\":81}}\n",
    "max=0\n",
    "st = ''\n",
    "for i in s:\n",
    "    score = s.get(i)['score']\n",
    "    if score > max:\n",
    "        max = score\n",
    "        st = i\n",
    "print({st:max})\n",
    "            \n",
    "        "
   ]
  },
  {
   "cell_type": "code",
   "execution_count": 2,
   "id": "5ce4e178",
   "metadata": {},
   "outputs": [
    {
     "name": "stdout",
     "output_type": "stream",
     "text": [
      "[1, 3, 7, 10, 15]\n"
     ]
    }
   ],
   "source": [
    "list1 = [1,10,7,15,3]\n",
    "list1.sort()\n",
    "print(list1)"
   ]
  },
  {
   "cell_type": "code",
   "execution_count": 22,
   "id": "8f95ccf2",
   "metadata": {},
   "outputs": [
    {
     "name": "stdout",
     "output_type": "stream",
     "text": [
      "[5, 6, 11, 12, 13]\n"
     ]
    }
   ],
   "source": [
    "lst=[12,11,13,5,6]\n",
    "for j in range(1,len(lst)):\n",
    "    while lst[j-1] > lst[j] and j > 0:\n",
    "        lst[j-1],lst[j]=lst[j],lst[j-1]\n",
    "        j-=1\n",
    "print(lst)"
   ]
  },
  {
   "cell_type": "code",
   "execution_count": 17,
   "id": "ab4c7aa9",
   "metadata": {},
   "outputs": [
    {
     "name": "stdout",
     "output_type": "stream",
     "text": [
      "[2]\n",
      "[2, 4]\n",
      "[2, 4, 6]\n",
      "[2, 4, 6, 8]\n",
      "[2, 4, 6, 8, 18]\n",
      "[2, 4, 6, 8, 18, 32]\n"
     ]
    }
   ],
   "source": [
    "lst=[1,2,3,4,9,16]\n",
    "newlst=[]\n",
    "for i in lst:\n",
    "#     squre=i*2\n",
    "    newlst.append(i*2)\n",
    "    print(newlst)"
   ]
  },
  {
   "cell_type": "code",
   "execution_count": 37,
   "id": "b367b578",
   "metadata": {},
   "outputs": [
    {
     "name": "stdout",
     "output_type": "stream",
     "text": [
      "Enter No:12\n",
      "12 x 1 = 12\n",
      "12 x 2 = 24\n",
      "12 x 3 = 36\n",
      "12 x 4 = 48\n",
      "12 x 5 = 60\n",
      "12 x 6 = 72\n",
      "12 x 7 = 84\n",
      "12 x 8 = 96\n",
      "12 x 9 = 108\n",
      "12 x 10 = 120\n"
     ]
    }
   ],
   "source": [
    "x=int(input(\"Enter No:\"))\n",
    "for i in range(1,11):\n",
    "    print(x,\"x\",i,\"=\",x*i)"
   ]
  },
  {
   "cell_type": "code",
   "execution_count": 65,
   "id": "0d80276c",
   "metadata": {},
   "outputs": [
    {
     "name": "stdout",
     "output_type": "stream",
     "text": [
      "7\n",
      "Weird\n"
     ]
    }
   ],
   "source": [
    "n=int(input())\n",
    "if n%2==1:\n",
    "    print(\"Weird\")\n",
    "elif n % 2==0 and 2 <=n<=5:\n",
    "    print(\"Not Weird\")\n",
    "elif n% 2==0 and 6<= n <=20:\n",
    "    print(\"weird\")\n",
    "else:\n",
    "    print(\"not weird\")"
   ]
  },
  {
   "cell_type": "markdown",
   "id": "0c827ff6",
   "metadata": {},
   "source": [
    "# zip() fuction"
   ]
  },
  {
   "cell_type": "code",
   "execution_count": 14,
   "id": "584e21b7",
   "metadata": {},
   "outputs": [
    {
     "name": "stdout",
     "output_type": "stream",
     "text": [
      "[('Manjeet', 'adnan'), ('Nikhil', 'shanawaz'), ('Shambhavi', 'moin')]\n"
     ]
    }
   ],
   "source": [
    "name = [ \"Manjeet\", \"Nikhil\", \"Shambhavi\", \"Astha\" ]\n",
    "str_lst=[\"adnan\",\"shanawaz\",\"moin\"]\n",
    "m = zip(name, str_lst)\n",
    "print(list(m))"
   ]
  },
  {
   "cell_type": "markdown",
   "id": "a4eb824b",
   "metadata": {},
   "source": [
    "# filter() fucntion "
   ]
  },
  {
   "cell_type": "code",
   "execution_count": 1,
   "id": "6257628a",
   "metadata": {},
   "outputs": [
    {
     "name": "stdout",
     "output_type": "stream",
     "text": [
      "[1, 3, 5, 7, 9]\n"
     ]
    }
   ],
   "source": [
    "numbers = [1, 2, 3, 4, 5, 6, 7, 8, 9, 10]\n",
    "def check_even(number):\n",
    "    if number % 2 == 0:\n",
    "          return False \n",
    "    else:\n",
    "        return True\n",
    "even = filter(check_even, numbers)\n",
    "print(list(even))"
   ]
  },
  {
   "cell_type": "markdown",
   "id": "024bb647",
   "metadata": {},
   "source": [
    "# map() function"
   ]
  },
  {
   "cell_type": "code",
   "execution_count": 8,
   "id": "a4b2a44a",
   "metadata": {},
   "outputs": [
    {
     "name": "stdout",
     "output_type": "stream",
     "text": [
      "[1, 4, 9, 16]\n"
     ]
    }
   ],
   "source": [
    "def addition(n):\n",
    "    return n*n\n",
    "numbers=[1,2,3,4]\n",
    "result = map(addition, numbers)\n",
    "print(list(result))\n"
   ]
  },
  {
   "cell_type": "markdown",
   "id": "d3d43317",
   "metadata": {},
   "source": [
    "# enumerate() "
   ]
  },
  {
   "cell_type": "code",
   "execution_count": 7,
   "id": "45cb65d1",
   "metadata": {},
   "outputs": [
    {
     "name": "stdout",
     "output_type": "stream",
     "text": [
      "[0, 'eat']\n",
      "[1, 'sleep']\n",
      "[2, 'repeat']\n"
     ]
    }
   ],
   "source": [
    "l1 = [\"eat\", \"sleep\", \"repeat\"]\n",
    "for c in enumerate(l1):\n",
    "    print(list(c))\n"
   ]
  },
  {
   "cell_type": "markdown",
   "id": "ed412078",
   "metadata": {},
   "source": [
    "# join "
   ]
  },
  {
   "cell_type": "code",
   "execution_count": 9,
   "id": "d8d78d56",
   "metadata": {},
   "outputs": [
    {
     "name": "stdout",
     "output_type": "stream",
     "text": [
      "J#o#h#n\n"
     ]
    }
   ],
   "source": [
    "myTuple = \"John\"\n",
    "\n",
    "x = \"#\".join(myTuple)\n",
    "\n",
    "print(x)"
   ]
  },
  {
   "cell_type": "code",
   "execution_count": 100,
   "id": "b5fe8627",
   "metadata": {},
   "outputs": [
    {
     "name": "stdout",
     "output_type": "stream",
     "text": [
      "The sum of the list elements is : 17\n",
      "The maximum element of the list is : 6\n"
     ]
    }
   ],
   "source": [
    "# python code to demonstrate working of reduce()\n",
    "\n",
    "# importing functools for reduce()\n",
    "from functools import reduce as cs\n",
    "\n",
    "# initializing list\n",
    "lis = [1, 3, 5, 6, 2]\n",
    "\n",
    "# # using reduce to compute sum of list\n",
    "print(\"The sum of the list elements is : \", end=\"\")\n",
    "print(cs(lambda a, b: a+b, lis))\n",
    "\n",
    "# using reduce to compute maximum element from list\n",
    "print(\"The maximum element of the list is : \", end=\"\")\n",
    "print(cs(lambda a, b: a if a > b else b, lis))"
   ]
  },
  {
   "cell_type": "code",
   "execution_count": 93,
   "id": "ad95c345",
   "metadata": {},
   "outputs": [
    {
     "name": "stdout",
     "output_type": "stream",
     "text": [
      "First occurrence of 4 is present at 3\n"
     ]
    }
   ],
   "source": [
    "# Python code to demonstrate working\n",
    "# of binary search in library\n",
    "from bisect import bisect_left as bleft\n",
    "\n",
    "def BinarySearch(a, x):\n",
    "\ti = bleft(a, x)\n",
    "\tif i != len(a) and a[i] == x:\n",
    "\t\treturn i\n",
    "\telse:\n",
    "\t\treturn -1\n",
    "\n",
    "a = [1,2,3,4]\n",
    "x = int(4)\n",
    "res = BinarySearch(a, x)\n",
    "if res == -1:\n",
    "\tprint(x, \"is absent\")\n",
    "else:\n",
    "\tprint(\"First occurrence of\", x, \"is present at\", res)\n"
   ]
  },
  {
   "cell_type": "code",
   "execution_count": 22,
   "id": "aeef3573",
   "metadata": {},
   "outputs": [
    {
     "name": "stdout",
     "output_type": "stream",
     "text": [
      "24\n",
      "Weird\n"
     ]
    }
   ],
   "source": [
    "n = int(input())\n",
    "if n%2==1:\n",
    "    print(\"Weird\")\n",
    "elif n%2==0 and 2 >= 5:\n",
    "    print(\"Not Weird\")\n",
    "elif n%2==0 and 6 <= n >= 20:\n",
    "    print(\"Weird\")\n",
    "else:\n",
    "    print(\"Not Weird\")"
   ]
  },
  {
   "cell_type": "code",
   "execution_count": 28,
   "id": "9d3be2f8",
   "metadata": {},
   "outputs": [
    {
     "name": "stdout",
     "output_type": "stream",
     "text": [
      "20\n",
      "Weird\n"
     ]
    }
   ],
   "source": [
    "n=int(input())\n",
    "if n%2==1:\n",
    "    print(\"Weird\")\n",
    "elif n% 2==0 and 6<= n <=20:\n",
    "    print(\"Weird\")\n",
    "elif n % 2==0 and 2 <=n<=5:\n",
    "    print(\"Not Weird\")\n",
    "\n",
    "else:\n",
    "    print(\"Not Weird\")"
   ]
  },
  {
   "cell_type": "code",
   "execution_count": 31,
   "id": "d760f417",
   "metadata": {},
   "outputs": [
    {
     "name": "stdout",
     "output_type": "stream",
     "text": [
      "2\n",
      "0\n"
     ]
    }
   ],
   "source": [
    "n=int(input())\n",
    "def func(n):\n",
    "    for i in range(n):\n",
    "        return i\n",
    "obj=func(n)\n",
    "print(obj)"
   ]
  },
  {
   "cell_type": "code",
   "execution_count": 6,
   "id": "875c0da2",
   "metadata": {},
   "outputs": [
    {
     "name": "stdout",
     "output_type": "stream",
     "text": [
      "20\n",
      "1234567891011121314151617181920"
     ]
    }
   ],
   "source": [
    "n=int(input())\n",
    "for i in range(1,n+1):\n",
    "    print(i,end=\"\")"
   ]
  },
  {
   "cell_type": "code",
   "execution_count": 12,
   "id": "5be37c99",
   "metadata": {},
   "outputs": [
    {
     "name": "stdout",
     "output_type": "stream",
     "text": [
      "[[3, 3], [3, 3]]\n"
     ]
    }
   ],
   "source": [
    "a=[[2,3]]*2\n",
    "a[1][0]=3\n",
    "print(a)"
   ]
  },
  {
   "cell_type": "code",
   "execution_count": 54,
   "id": "4cf7da4e",
   "metadata": {},
   "outputs": [
    {
     "name": "stdout",
     "output_type": "stream",
     "text": [
      "2100\n",
      "None\n"
     ]
    }
   ],
   "source": [
    "def is_leap(year):\n",
    "\n",
    "    # Write your logic here\n",
    "\n",
    "\n",
    "year = int(input())\n",
    "print(is_leap(year))"
   ]
  },
  {
   "cell_type": "code",
   "execution_count": 42,
   "id": "6d8b3bc8",
   "metadata": {},
   "outputs": [
    {
     "ename": "AttributeError",
     "evalue": "'vhicle' object has no attribute 'mileage'",
     "output_type": "error",
     "traceback": [
      "\u001b[1;31m---------------------------------------------------------------------------\u001b[0m",
      "\u001b[1;31mAttributeError\u001b[0m                            Traceback (most recent call last)",
      "Input \u001b[1;32mIn [42]\u001b[0m, in \u001b[0;36m<cell line: 6>\u001b[1;34m()\u001b[0m\n\u001b[0;32m      4\u001b[0m         \u001b[38;5;28mself\u001b[39m\u001b[38;5;241m.\u001b[39mb\u001b[38;5;241m=\u001b[39mmileage\n\u001b[0;32m      5\u001b[0m obj\u001b[38;5;241m=\u001b[39mvhicle(\u001b[38;5;241m250\u001b[39m,\u001b[38;5;241m120\u001b[39m)\n\u001b[1;32m----> 6\u001b[0m \u001b[38;5;28mprint\u001b[39m(\u001b[43mobj\u001b[49m\u001b[38;5;241;43m.\u001b[39;49m\u001b[43mmileage\u001b[49m)\n\u001b[0;32m      7\u001b[0m \u001b[38;5;28mprint\u001b[39m(obj\u001b[38;5;241m.\u001b[39mmax_speed)\n",
      "\u001b[1;31mAttributeError\u001b[0m: 'vhicle' object has no attribute 'mileage'"
     ]
    }
   ],
   "source": [
    "class vhicle:\n",
    "    def __init__(self,max_speed,mileage):\n",
    "        self.a=max_speed\n",
    "        self.b=mileage\n",
    "obj=vhicle(250,120)\n",
    "print(obj.mileage)\n",
    "print(obj.max_speed)"
   ]
  },
  {
   "cell_type": "code",
   "execution_count": 50,
   "id": "d72f37e2",
   "metadata": {},
   "outputs": [
    {
     "name": "stdout",
     "output_type": "stream",
     "text": [
      "[1, 2, 3, 4, 5, 6, 8]\n"
     ]
    }
   ],
   "source": [
    "a=[1,1,2,2,2,3,2,4,5,5,6,6,8]\n",
    "a=set(a)\n",
    "x=list(a)\n",
    "print(x)"
   ]
  },
  {
   "cell_type": "code",
   "execution_count": null,
   "id": "f1a8c47d",
   "metadata": {},
   "outputs": [],
   "source": []
  },
  {
   "cell_type": "code",
   "execution_count": 15,
   "id": "5e8f13c3",
   "metadata": {},
   "outputs": [
    {
     "name": "stdout",
     "output_type": "stream",
     "text": [
      "HI, I AM CREATED BY A FUNCTION PASSED AS AN ARGUMENT.\n",
      "hi, i am created by a function passed as an argument.\n"
     ]
    }
   ],
   "source": [
    "def shout(text):\n",
    "    return text.upper()\n",
    " \n",
    "def whisper(text):\n",
    "    return text.lower()\n",
    " \n",
    "def greet(func):\n",
    "    # storing the function in a variable\n",
    "    greeting = func(\"\"\"Hi, I am created by a function passed as an argument.\"\"\")\n",
    "    print (greeting)\n",
    " \n",
    "greet(shout)\n",
    "greet(whisper)"
   ]
  },
  {
   "cell_type": "code",
   "execution_count": 63,
   "id": "d4b469f4",
   "metadata": {},
   "outputs": [
    {
     "name": "stdout",
     "output_type": "stream",
     "text": [
      "Hello ,This is before function excution.\n",
      "This is inside the function.\n",
      "This is after function excution.\n"
     ]
    }
   ],
   "source": [
    "def hello_decorator(func):\n",
    "    def inner1():\n",
    "        print(\"Hello ,This is before function excution.\")\n",
    "        func()\n",
    "        print(\"This is after function excution.\")\n",
    "    return inner1\n",
    "def function_to_be_used():\n",
    "    print(\"This is inside the function.\")\n",
    "fucntion_to_be=hello_decorator(function_to_be_used)\n",
    "fucntion_to_be()"
   ]
  },
  {
   "cell_type": "markdown",
   "id": "77e6135b",
   "metadata": {},
   "source": [
    "# fibonacci"
   ]
  },
  {
   "cell_type": "code",
   "execution_count": 10,
   "id": "d01c7cb1",
   "metadata": {},
   "outputs": [
    {
     "name": "stdout",
     "output_type": "stream",
     "text": [
      "203\n",
      "2\n",
      "205\n",
      "207\n",
      "412\n",
      "619\n",
      "1031\n",
      "1650\n",
      "2681\n",
      "4331\n",
      "7012\n"
     ]
    }
   ],
   "source": [
    "def fib_ci():\n",
    "    a=int(input())\n",
    "    b=int(input())\n",
    "    while True:\n",
    "        c=a\n",
    "        a=b\n",
    "        b=a+c\n",
    "        yield b\n",
    "f=fib_ci()\n",
    "for i in range(9):\n",
    "    print(next(f))"
   ]
  },
  {
   "cell_type": "code",
   "execution_count": 5,
   "id": "636fae4a",
   "metadata": {
    "scrolled": true
   },
   "outputs": [
    {
     "name": "stdout",
     "output_type": "stream",
     "text": [
      "1\n",
      "1\n",
      "1\n",
      "1\n",
      "[[0, 0, 0], [0, 1, 1], [1, 0, 1], [1, 1, 0], [1, 1, 1]]\n"
     ]
    }
   ],
   "source": [
    " if __name__ == '__main__':\n",
    "    x = int(input())\n",
    "    y = int(input())\n",
    "    z = int(input())\n",
    "    n = int(input())\n",
    "\n",
    "    print(list([i,j,k] for i in range(x+1) for j in range(y+1) for k in range(z+1)  if i+j+k !=n))"
   ]
  },
  {
   "cell_type": "code",
   "execution_count": 30,
   "id": "fa581cbd",
   "metadata": {},
   "outputs": [
    {
     "name": "stdout",
     "output_type": "stream",
     "text": [
      "2 * 4 =  8\n",
      "2 * 6 =  12\n",
      "4 * 2 =  8\n",
      "4 * 6 =  24\n",
      "6 * 2 =  12\n",
      "6 * 4 =  24\n"
     ]
    }
   ],
   "source": [
    "first = [2, 4, 6]\n",
    "second = [2, 4, 6]\n",
    "for i in first:\n",
    "    for j in second:\n",
    "        if i == j:\n",
    "            continue\n",
    "        print(i, '*', j, '= ', i * j)"
   ]
  },
  {
   "cell_type": "code",
   "execution_count": 2,
   "id": "5f032ef5",
   "metadata": {
    "scrolled": true
   },
   "outputs": [
    {
     "name": "stdout",
     "output_type": "stream",
     "text": [
      "   \n",
      "  \n",
      " \n",
      "\n"
     ]
    }
   ],
   "source": [
    "for i in range(1,5):\n",
    "    for k in range(1,5-i):\n",
    "        print(' ',end='')\n",
    "    for j in range(i+1,-1):\n",
    "        print('*',end='')\n",
    "    print('')\n"
   ]
  },
  {
   "cell_type": "code",
   "execution_count": 62,
   "id": "7da125ac",
   "metadata": {},
   "outputs": [
    {
     "data": {
      "text/plain": [
       "1"
      ]
     },
     "execution_count": 62,
     "metadata": {},
     "output_type": "execute_result"
    }
   ],
   "source": [
    "class Student:\n",
    "    def __init__(self,id,name):\n",
    "        self.id=id\n",
    "        self.name=name\n",
    "    def show(self):\n",
    "        print(self.id,self.name)\n",
    "obj=Student(1,\"adnan\")\n",
    "obj.id"
   ]
  },
  {
   "cell_type": "code",
   "execution_count": 1,
   "id": "07b4be55",
   "metadata": {},
   "outputs": [
    {
     "name": "stdout",
     "output_type": "stream",
     "text": [
      "{'a', 'q', 'san', 'b', 'p', 'c'}\n"
     ]
    }
   ],
   "source": [
    "z=set(\"abc\")\n",
    "z.add(\"san\")\n",
    "z.update(set(['p','q']))\n",
    "print(z)"
   ]
  },
  {
   "cell_type": "code",
   "execution_count": 8,
   "id": "bb1ae481",
   "metadata": {},
   "outputs": [
    {
     "name": "stdout",
     "output_type": "stream",
     "text": [
      "False\n"
     ]
    }
   ],
   "source": [
    "a=max(False,-1,-2,-3)\n",
    "b=min(a,1,4,6)\n",
    "print(b)"
   ]
  },
  {
   "cell_type": "code",
   "execution_count": 5,
   "id": "d38af828",
   "metadata": {},
   "outputs": [
    {
     "name": "stdout",
     "output_type": "stream",
     "text": [
      "('name', 'adnan')\n",
      "('roll', 21)\n"
     ]
    }
   ],
   "source": [
    "d={'name':'adnan',\n",
    "  'roll':21}\n",
    "for i in d.items():\n",
    "    print(i)"
   ]
  },
  {
   "cell_type": "code",
   "execution_count": 8,
   "id": "3214586b",
   "metadata": {},
   "outputs": [
    {
     "name": "stdout",
     "output_type": "stream",
     "text": [
      "set()\n"
     ]
    }
   ],
   "source": [
    "a=set()\n",
    "print(a)"
   ]
  },
  {
   "cell_type": "code",
   "execution_count": 13,
   "id": "c1cb2293",
   "metadata": {},
   "outputs": [
    {
     "name": "stdout",
     "output_type": "stream",
     "text": [
      "1 2 3 5\n"
     ]
    }
   ],
   "source": [
    "t=(1,2,3,5)\n",
    "a,b,c,d=t\n",
    "print(a,b,c,d)\n"
   ]
  },
  {
   "cell_type": "code",
   "execution_count": 6,
   "id": "c72d7539",
   "metadata": {},
   "outputs": [
    {
     "name": "stdout",
     "output_type": "stream",
     "text": [
      "1 3\n",
      "321 987654\n",
      "987654 987\n"
     ]
    }
   ],
   "source": [
    "s=\"987654321\"\n",
    "print(s[-1],s[-3])\n",
    "print(s[-3:],s[:-3])\n",
    "print(s[-20:-3],s[-20:3])"
   ]
  },
  {
   "cell_type": "code",
   "execution_count": 8,
   "id": "97dce546",
   "metadata": {},
   "outputs": [],
   "source": [
    "class A:\n",
    "    def __init__(self,x,y,z):\n",
    "        self.a=x+y+z\n",
    "X=A(1,2,3)"
   ]
  },
  {
   "cell_type": "code",
   "execution_count": 8,
   "id": "848c16a6",
   "metadata": {},
   "outputs": [
    {
     "ename": "SyntaxError",
     "evalue": "invalid syntax (2174383480.py, line 1)",
     "output_type": "error",
     "traceback": [
      "\u001b[1;36m  Input \u001b[1;32mIn [8]\u001b[1;36m\u001b[0m\n\u001b[1;33m    x=[i:i+2 for i in range(5)]\u001b[0m\n\u001b[1;37m        ^\u001b[0m\n\u001b[1;31mSyntaxError\u001b[0m\u001b[1;31m:\u001b[0m invalid syntax\n"
     ]
    }
   ],
   "source": [
    "x=[i:i+2 for i in range(5)]\n",
    "print(x)"
   ]
  },
  {
   "cell_type": "code",
   "execution_count": 20,
   "id": "e571c0b4",
   "metadata": {},
   "outputs": [
    {
     "name": "stdout",
     "output_type": "stream",
     "text": [
      "{1: 1, 3: 3}\n"
     ]
    }
   ],
   "source": [
    "x={i:i for i in range(5) if i%2!=0}\n",
    "print(x)"
   ]
  },
  {
   "cell_type": "code",
   "execution_count": 20,
   "id": "b03d8431",
   "metadata": {},
   "outputs": [
    {
     "name": "stdout",
     "output_type": "stream",
     "text": [
      "{0, 1, 2, 3, 4}\n"
     ]
    }
   ],
   "source": [
    "x={i for i in range(5)}\n",
    "print(x)"
   ]
  },
  {
   "cell_type": "code",
   "execution_count": 21,
   "id": "c44b8463",
   "metadata": {},
   "outputs": [
    {
     "name": "stdout",
     "output_type": "stream",
     "text": [
      "[0, 1, 2, 3, 4]\n"
     ]
    }
   ],
   "source": [
    "x=[i for i in range(5)]\n",
    "print(x)"
   ]
  },
  {
   "cell_type": "code",
   "execution_count": 16,
   "id": "f34939ba",
   "metadata": {},
   "outputs": [
    {
     "name": "stdout",
     "output_type": "stream",
     "text": [
      "1 not divisible\n",
      "2 not divisible\n",
      "3 not divisible\n",
      "4 not divisible\n",
      "5 not divisible\n",
      "6 not divisible\n",
      "7 not divisible\n",
      "8 not divisible\n",
      "9 not divisible\n",
      "10 not divisible\n",
      "11 not divisible\n",
      "12 not divisible\n",
      "13 not divisible\n",
      "14 not divisible\n",
      "15 divisible\n",
      "16 not divisible\n",
      "17 not divisible\n",
      "18 not divisible\n",
      "19 not divisible\n",
      "20 not divisible\n",
      "21 not divisible\n",
      "22 not divisible\n",
      "23 not divisible\n",
      "24 not divisible\n",
      "25 not divisible\n",
      "26 not divisible\n",
      "27 not divisible\n",
      "28 not divisible\n",
      "29 not divisible\n",
      "30 divisible\n",
      "31 not divisible\n",
      "32 not divisible\n",
      "33 not divisible\n",
      "34 not divisible\n",
      "35 not divisible\n",
      "36 not divisible\n",
      "37 not divisible\n",
      "38 not divisible\n",
      "39 not divisible\n",
      "40 not divisible\n",
      "41 not divisible\n",
      "42 not divisible\n",
      "43 not divisible\n",
      "44 not divisible\n",
      "45 divisible\n",
      "46 not divisible\n",
      "47 not divisible\n",
      "48 not divisible\n",
      "49 not divisible\n",
      "50 not divisible\n",
      "51 not divisible\n",
      "52 not divisible\n",
      "53 not divisible\n",
      "54 not divisible\n",
      "55 not divisible\n",
      "56 not divisible\n",
      "57 not divisible\n",
      "58 not divisible\n",
      "59 not divisible\n",
      "60 divisible\n",
      "61 not divisible\n",
      "62 not divisible\n",
      "63 not divisible\n",
      "64 not divisible\n",
      "65 not divisible\n",
      "66 not divisible\n",
      "67 not divisible\n",
      "68 not divisible\n",
      "69 not divisible\n",
      "70 not divisible\n",
      "71 not divisible\n",
      "72 not divisible\n",
      "73 not divisible\n",
      "74 not divisible\n",
      "75 divisible\n",
      "76 not divisible\n",
      "77 not divisible\n",
      "78 not divisible\n",
      "79 not divisible\n",
      "80 not divisible\n",
      "81 not divisible\n",
      "82 not divisible\n",
      "83 not divisible\n",
      "84 not divisible\n",
      "85 not divisible\n",
      "86 not divisible\n",
      "87 not divisible\n",
      "88 not divisible\n",
      "89 not divisible\n",
      "90 divisible\n",
      "91 not divisible\n",
      "92 not divisible\n",
      "93 not divisible\n",
      "94 not divisible\n",
      "95 not divisible\n",
      "96 not divisible\n",
      "97 not divisible\n",
      "98 not divisible\n",
      "99 not divisible\n"
     ]
    }
   ],
   "source": [
    "for i in range(1,100):\n",
    "    if i%3==0 and i%5==0:\n",
    "        print(i,'divisible')\n",
    "    else:\n",
    "        print(i,'not divisible')"
   ]
  },
  {
   "cell_type": "code",
   "execution_count": 29,
   "id": "088eee8f",
   "metadata": {},
   "outputs": [
    {
     "name": "stdout",
     "output_type": "stream",
     "text": [
      "25\n"
     ]
    }
   ],
   "source": [
    "class Student:\n",
    "    def __init__(self,age):\n",
    "        self.__age=age        \n",
    "    # getter method\n",
    "    def age(self):\n",
    "        return self.__age    \n",
    "    # setter method\n",
    "    def sett(self,x):\n",
    "        self.__age=x\n",
    "obj = Student(20)  \n",
    "# setting the age using setter\n",
    "obj.sett(25)  \n",
    "# retrieving age using getter  \n",
    "print(obj.age())        "
   ]
  },
  {
   "cell_type": "code",
   "execution_count": 14,
   "id": "6099c7d3",
   "metadata": {},
   "outputs": [
    {
     "name": "stdout",
     "output_type": "stream",
     "text": [
      "{'Talha': 78}\n"
     ]
    }
   ],
   "source": [
    "student = {\"Umar\":{\"score\": 67}, \"Talha\":{\"score\": 78}, \"Shadab\":{\"score\": 17}}\n",
    "max=0\n",
    "stu=''\n",
    "for i in student: \n",
    "    score=student.get(i)['score']\n",
    "#     print(score)\n",
    "    if score>max:\n",
    "        max=score\n",
    "#         print(max)\n",
    "        stu=i\n",
    "print ({stu:max})\n",
    "\n",
    "    "
   ]
  },
  {
   "cell_type": "code",
   "execution_count": 12,
   "id": "95e833af",
   "metadata": {},
   "outputs": [
    {
     "name": "stdout",
     "output_type": "stream",
     "text": [
      "[65, 23, 19, 90, 12, 13]\n"
     ]
    }
   ],
   "source": [
    "def swapPositions(lst, pos1, pos2):\n",
    "     \n",
    "    lst[pos1], lst[pos2] = lst[pos2], lst[pos1]\n",
    "    return lst\n",
    " \n",
    "# Driver function\n",
    "Lst = [23, 65, 19, 90,12,13]\n",
    "pos1, pos2  = 0, 1\n",
    " \n",
    "print(swapPositions(Lst, pos1, pos2))"
   ]
  },
  {
   "cell_type": "code",
   "execution_count": 15,
   "id": "1574bc2a",
   "metadata": {},
   "outputs": [
    {
     "name": "stdout",
     "output_type": "stream",
     "text": [
      "['even', 'odd', 'even']\n"
     ]
    }
   ],
   "source": [
    "a=[2,47,8]\n",
    "b=[(lambda x: \"even\" if x%2==0 else \"odd\") (x) for x in a]\n",
    "print(b)"
   ]
  },
  {
   "cell_type": "code",
   "execution_count": 33,
   "id": "fce66311",
   "metadata": {},
   "outputs": [
    {
     "name": "stdout",
     "output_type": "stream",
     "text": [
      "[3]\n"
     ]
    }
   ],
   "source": [
    "lst = [2,1,4,3,1,4,2]\n",
    "def odd_occurring_num(arr):\n",
    "    return [i for i in lst if lst.count(i) < 2]\n",
    "\n",
    "print(odd_occurring_num(lst))"
   ]
  },
  {
   "cell_type": "code",
   "execution_count": 18,
   "id": "50e3c8f7",
   "metadata": {},
   "outputs": [
    {
     "name": "stdout",
     "output_type": "stream",
     "text": [
      "9\n"
     ]
    }
   ],
   "source": [
    "a=[2,1,4,3,3,2,1,4,9]\n",
    "r=0\n",
    "for i in a:\n",
    "    r^=i\n",
    "print(r)"
   ]
  },
  {
   "cell_type": "code",
   "execution_count": 5,
   "id": "e75ee165",
   "metadata": {},
   "outputs": [
    {
     "name": "stdout",
     "output_type": "stream",
     "text": [
      "hello1\n",
      "hello\n",
      "hello1\n"
     ]
    }
   ],
   "source": [
    "x=\"hello1\"\n",
    "def func():\n",
    "    global z\n",
    "    z=\"hello\"\n",
    "    print(x)\n",
    "    \n",
    "def un():\n",
    "    print(z)\n",
    "    print(x)\n",
    "    \n",
    "func()\n",
    "un()\n"
   ]
  },
  {
   "cell_type": "code",
   "execution_count": 12,
   "id": "ffc3c9d7",
   "metadata": {},
   "outputs": [
    {
     "name": "stdout",
     "output_type": "stream",
     "text": [
      "truck\n",
      "Car\n",
      "None\n"
     ]
    }
   ],
   "source": [
    "class Truck():\n",
    "    def show(self):\n",
    "        print(\"truck\")\n",
    "class Car(Truck):\n",
    "#     x=super().show()\n",
    "    def show(self):\n",
    "        x=super().show()\n",
    "        print(\"Car\")\n",
    "        print(x)\n",
    "        \n",
    "obj=Car()\n",
    "obj.show()"
   ]
  },
  {
   "cell_type": "code",
   "execution_count": 44,
   "id": "568a55d0",
   "metadata": {},
   "outputs": [
    {
     "name": "stdout",
     "output_type": "stream",
     "text": [
      "[(56, 'apple'), ('water', 'case'), (1, 'groot'), ('dell', 'ipad'), ('teams', 'ml'), ('zoo', 'peanuts')]\n"
     ]
    }
   ],
   "source": [
    "def SortTuple(tups):\n",
    "#     print(n) \n",
    "    n=len(tups)\n",
    "    for i in range(n):\n",
    "        for j in range(n-i-1):              \n",
    "            if tup[j][1] > tup[j + 1][1]:\n",
    "                tup[j], tup[j + 1] = tup[j + 1], tup[j]                 \n",
    "    return tup    \n",
    "# Driver's code\n",
    "tup= [(\"zoo\", \"peanuts\"),(1, 'groot'), (\"teams\",\"ml\"),('dell', 'ipad'), ('water', 'case'), (56,\"apple\")]          \n",
    "print(SortTuple(tup))"
   ]
  },
  {
   "cell_type": "code",
   "execution_count": 128,
   "id": "df07e349",
   "metadata": {},
   "outputs": [
    {
     "name": "stdout",
     "output_type": "stream",
     "text": [
      "[('1', 'groot'), ('56', 'apple'), ('dell', 'ipad'), ('teams', 'ml'), ('water', 'case'), ('zoo', 'peanuts')]\n"
     ]
    }
   ],
   "source": [
    "tup= [(\"zoo\", \"peanuts\"),(\"1\", 'groot'), (\"teams\",\"ml\"),('dell', 'ipad'), ('water', 'case'), (\"56\",\"apple\")]\n",
    "tup.sort(key=lambda t:t[0])\n",
    "print(tup)\n"
   ]
  },
  {
   "cell_type": "code",
   "execution_count": 35,
   "id": "4c0f226c",
   "metadata": {},
   "outputs": [
    {
     "name": "stdout",
     "output_type": "stream",
     "text": [
      "{1, 2, 3, 4, 5, 6, 7, 8, 9}\n"
     ]
    }
   ],
   "source": [
    "a={i for i in range(1,10)}\n",
    "print(a)"
   ]
  },
  {
   "cell_type": "code",
   "execution_count": 78,
   "id": "b348137d",
   "metadata": {},
   "outputs": [
    {
     "name": "stdout",
     "output_type": "stream",
     "text": [
      "['odd', 'even', 'even', 'even']\n"
     ]
    }
   ],
   "source": [
    "a=[1,2,4,6]\n",
    "b=[(lambda x: 'even' if x%2==0 else 'odd') (x) for x in a]\n",
    "print(b)"
   ]
  },
  {
   "cell_type": "code",
   "execution_count": 107,
   "id": "2f3829dd",
   "metadata": {},
   "outputs": [
    {
     "name": "stdout",
     "output_type": "stream",
     "text": [
      "{1: 1, 2: 2, 3: 3, 4: 4, 5: 5, 6: 6, 7: 7, 8: 8, 9: 9}\n"
     ]
    }
   ],
   "source": [
    "a={i:i for i in range(1,10)}\n",
    "print(a)"
   ]
  },
  {
   "cell_type": "code",
   "execution_count": 39,
   "id": "a593eac4",
   "metadata": {},
   "outputs": [
    {
     "ename": "TypeError",
     "evalue": "'int' object is not iterable",
     "output_type": "error",
     "traceback": [
      "\u001b[1;31m---------------------------------------------------------------------------\u001b[0m",
      "\u001b[1;31mTypeError\u001b[0m                                 Traceback (most recent call last)",
      "Input \u001b[1;32mIn [39]\u001b[0m, in \u001b[0;36m<cell line: 11>\u001b[1;34m()\u001b[0m\n\u001b[0;32m      9\u001b[0m a\u001b[38;5;241m=\u001b[39m[\u001b[38;5;241m1\u001b[39m,\u001b[38;5;241m2\u001b[39m,\u001b[38;5;241m3\u001b[39m,\u001b[38;5;241m4\u001b[39m]\n\u001b[0;32m     10\u001b[0m b\u001b[38;5;241m=\u001b[39m[]\n\u001b[1;32m---> 11\u001b[0m \u001b[43msqaure\u001b[49m\u001b[43m(\u001b[49m\u001b[43ma\u001b[49m\u001b[43m)\u001b[49m\n",
      "Input \u001b[1;32mIn [39]\u001b[0m, in \u001b[0;36msqaure\u001b[1;34m(a)\u001b[0m\n\u001b[0;32m      5\u001b[0m c\u001b[38;5;241m=\u001b[39m\u001b[38;5;28miter\u001b[39m(b)\n\u001b[0;32m      6\u001b[0m obj\u001b[38;5;241m=\u001b[39m\u001b[38;5;28mnext\u001b[39m(c)\n\u001b[1;32m----> 7\u001b[0m \u001b[38;5;28;01mfor\u001b[39;00m i \u001b[38;5;129;01min\u001b[39;00m obj:\n\u001b[0;32m      8\u001b[0m      \u001b[38;5;28mprint\u001b[39m(i)\n",
      "\u001b[1;31mTypeError\u001b[0m: 'int' object is not iterable"
     ]
    }
   ],
   "source": [
    "def sqaure(a):\n",
    "    for i in a:\n",
    "        a=i**3\n",
    "        b.append(a)\n",
    "    c=iter(b)\n",
    "    obj=next(c)\n",
    "    for i in obj:\n",
    "         print(i)\n",
    "a=[1,2,3,4]\n",
    "b=[]\n",
    "sqaure(a)"
   ]
  },
  {
   "cell_type": "code",
   "execution_count": 52,
   "id": "1a93a61e",
   "metadata": {},
   "outputs": [
    {
     "name": "stdout",
     "output_type": "stream",
     "text": [
      "[1, 2, 3, 4, 5, 6, 7, 8]\n"
     ]
    }
   ],
   "source": [
    "a=[1,2,3,4]\n",
    "b=[5,6,7,8]\n",
    "\n",
    "c=a+b\n",
    "print(c)\n",
    "\n",
    "     \n",
    "    \n",
    "        \n",
    "    "
   ]
  },
  {
   "cell_type": "code",
   "execution_count": 60,
   "id": "c5f4bb77",
   "metadata": {},
   "outputs": [
    {
     "name": "stdout",
     "output_type": "stream",
     "text": [
      "{1: 1, 3: 3, 5: 5, 7: 7, 9: 9}\n"
     ]
    }
   ],
   "source": [
    "a={i:i for i in range(1,10,2)}\n",
    "print(a)"
   ]
  },
  {
   "cell_type": "code",
   "execution_count": 57,
   "id": "b25e476d",
   "metadata": {},
   "outputs": [
    {
     "name": "stdout",
     "output_type": "stream",
     "text": [
      "(1, 2, 3, 4)\n"
     ]
    }
   ],
   "source": [
    "a=[1,2,3,4]\n",
    "x=tuple(a)\n",
    "print(x)\n"
   ]
  },
  {
   "cell_type": "code",
   "execution_count": 121,
   "id": "c4fce37e",
   "metadata": {},
   "outputs": [
    {
     "name": "stdout",
     "output_type": "stream",
     "text": [
      "254\n"
     ]
    }
   ],
   "source": [
    "a=[254,56,120,30,0.5,0]\n",
    "max = 0\n",
    "for i in a:\n",
    "    if i > max:\n",
    "        max = i\n",
    "print(max)\n",
    "    \n"
   ]
  },
  {
   "cell_type": "code",
   "execution_count": 96,
   "id": "040fac04",
   "metadata": {},
   "outputs": [
    {
     "name": "stdout",
     "output_type": "stream",
     "text": [
      "254\n"
     ]
    }
   ],
   "source": [
    "class Person():\n",
    "    def show(self):\n",
    "        a=[254,56,120,30,0.5,0] \n",
    "        max=0\n",
    "        for i in a:\n",
    "            if i > max:\n",
    "                max=i\n",
    "        return max\n",
    "obj=Person()    \n",
    "print(obj.show())\n",
    "\n",
    "            \n",
    "            \n",
    "            \n",
    "        \n",
    "    "
   ]
  },
  {
   "cell_type": "code",
   "execution_count": 143,
   "id": "a1a7052f",
   "metadata": {},
   "outputs": [
    {
     "name": "stdout",
     "output_type": "stream",
     "text": [
      "32\n"
     ]
    }
   ],
   "source": [
    "list1 = [11,22,1,2,5,67,21,32]\n",
    "# to get unique elements\n",
    "new_list = set(list1)\n",
    "# removing the largest element from list1\n",
    "new_list.remove(max(new_list))\n",
    "print(max(new_list))\n",
    "# now computing the max element by built-in method?\n",
    "# print(max(new_list))"
   ]
  },
  {
   "cell_type": "code",
   "execution_count": 100,
   "id": "daefc014",
   "metadata": {},
   "outputs": [
    {
     "name": "stdout",
     "output_type": "stream",
     "text": [
      "{'Eric', 'Jodi', 'Vicki', 'Garry'}\n"
     ]
    }
   ],
   "source": [
    "sampleSet = {\"Jodi\", \"Eric\", \"Garry\"}\n",
    "sampleSet.add(\"Vicki\")\n",
    "print(sampleSet)"
   ]
  },
  {
   "cell_type": "code",
   "execution_count": 147,
   "id": "f73035b4",
   "metadata": {},
   "outputs": [
    {
     "name": "stdout",
     "output_type": "stream",
     "text": [
      "['hello']\n"
     ]
    }
   ],
   "source": [
    "a=\"hello\"\n",
    "lst=a.split()\n",
    "print(lst)"
   ]
  },
  {
   "cell_type": "code",
   "execution_count": 6,
   "id": "48593b33",
   "metadata": {},
   "outputs": [
    {
     "name": "stdout",
     "output_type": "stream",
     "text": [
      "{'brand': 'Ford', 'model': 'Mustang', 'year': 1964, 'color': 'White'}\n"
     ]
    }
   ],
   "source": [
    "car = {\n",
    "  \"brand\": \"Ford\",\n",
    "  \"model\": \"Mustang\",\n",
    "  \"year\": 1964\n",
    "}\n",
    "\n",
    "car.update({\"color\": \"White\"})\n",
    "\n",
    "print(car)\n"
   ]
  },
  {
   "cell_type": "code",
   "execution_count": 79,
   "id": "8f0db4c9",
   "metadata": {},
   "outputs": [
    {
     "name": "stdout",
     "output_type": "stream",
     "text": [
      "['odd', 'even', 'odd', 'even', 'odd']\n"
     ]
    }
   ],
   "source": [
    "a=[1,2,3,4,5]\n",
    "x=[(lambda x: 'even' if x%2==0 else 'odd' ) (x) for x in a]\n",
    "print(x)"
   ]
  },
  {
   "cell_type": "code",
   "execution_count": 148,
   "id": "f4de2add",
   "metadata": {},
   "outputs": [
    {
     "name": "stdout",
     "output_type": "stream",
     "text": [
      "[(2, 'banana'), (3, 'mango'), (4, 'apple')]\n"
     ]
    }
   ],
   "source": [
    "a=[(3,\"mango\"),(2,\"banana\"),(4,\"apple\")]\n",
    "sort_list=sorted(a,key=lambda a:a[0])\n",
    "print(sort_list)"
   ]
  },
  {
   "cell_type": "code",
   "execution_count": 17,
   "id": "961cebf1",
   "metadata": {},
   "outputs": [
    {
     "data": {
      "text/plain": [
       "[1, 8, 27, 64, 125]"
      ]
     },
     "execution_count": 17,
     "metadata": {},
     "output_type": "execute_result"
    }
   ],
   "source": [
    "def square(y):\n",
    "    for i in y:\n",
    "        a=i**3\n",
    "        b.append(a)\n",
    "    return b\n",
    "x=[1,2,3,4,5]\n",
    "b=[]\n",
    "square(x)"
   ]
  },
  {
   "cell_type": "code",
   "execution_count": 25,
   "id": "3843c4fd",
   "metadata": {},
   "outputs": [
    {
     "data": {
      "text/plain": [
       "254"
      ]
     },
     "execution_count": 25,
     "metadata": {},
     "output_type": "execute_result"
    }
   ],
   "source": [
    "class Person():    \n",
    "    def myfunc(self):\n",
    "        a=[254,56,120,30,0.5,0]\n",
    "        max=0\n",
    "        for i in a:\n",
    "            if i > max:\n",
    "                max=i\n",
    "        return max\n",
    "obj=Person()\n",
    "obj.myfunc()"
   ]
  },
  {
   "cell_type": "code",
   "execution_count": 112,
   "id": "e3b64ab7",
   "metadata": {},
   "outputs": [
    {
     "data": {
      "text/plain": [
       "2"
      ]
     },
     "execution_count": 112,
     "metadata": {},
     "output_type": "execute_result"
    }
   ],
   "source": [
    "a=[1,1,2,3,3,4,5,4,5]\n",
    "def myfunc(y):\n",
    "    x=0\n",
    "    for i in y:\n",
    "        x^=i\n",
    "    return x\n",
    "myfunc(a)"
   ]
  },
  {
   "cell_type": "code",
   "execution_count": 32,
   "id": "2593d77b",
   "metadata": {},
   "outputs": [
    {
     "name": "stdout",
     "output_type": "stream",
     "text": [
      "{'Talha': 78}\n"
     ]
    }
   ],
   "source": [
    "student = {\"Umar\":{\"score\": 67}, \"Talha\":{\"score\": 78}, \"Shadab\":{\"score\": 17}}\n",
    "max=0\n",
    "st=''\n",
    "for i in student:\n",
    "    score=student.get(i)[\"score\"] \n",
    "    if score > max:\n",
    "        max=score\n",
    "        st=i\n",
    "print({st:max})\n",
    "    "
   ]
  },
  {
   "cell_type": "code",
   "execution_count": 51,
   "id": "595aa91f",
   "metadata": {},
   "outputs": [
    {
     "name": "stdout",
     "output_type": "stream",
     "text": [
      "20 10\n"
     ]
    }
   ],
   "source": [
    "a=10\n",
    "b=20\n",
    "a,b=b,a\n",
    "print(a,b)"
   ]
  },
  {
   "cell_type": "code",
   "execution_count": 52,
   "id": "642d361c",
   "metadata": {},
   "outputs": [
    {
     "name": "stdout",
     "output_type": "stream",
     "text": [
      "[1, 2, 3, 4, 5, 6, 7, 8, 9]\n"
     ]
    }
   ],
   "source": [
    "a=[1,2,3,4,5]\n",
    "b=[6,7,8,9]\n",
    "c=a+b\n",
    "c.sort()\n",
    "print(c)"
   ]
  },
  {
   "cell_type": "code",
   "execution_count": 67,
   "id": "f9743715",
   "metadata": {},
   "outputs": [
    {
     "name": "stdout",
     "output_type": "stream",
     "text": [
      "{'even', 'odd'}\n"
     ]
    }
   ],
   "source": [
    "a={'even' if i%2==0  else 'odd' for i in range(1,10)}\n",
    "print(a)"
   ]
  },
  {
   "cell_type": "code",
   "execution_count": 13,
   "id": "fd4c182b",
   "metadata": {},
   "outputs": [
    {
     "name": "stdout",
     "output_type": "stream",
     "text": [
      "Enter First Number:22\n",
      "Select Operator (+,-,*,**,/,//):+22\n",
      "Enter Second Number22\n",
      "Please Select Operator\n"
     ]
    }
   ],
   "source": [
    "first=int(input(\"Enter First Number:\"))\n",
    "operator=input(\"Select Operator (+,-,*,**,/,//):\")\n",
    "second=int(input(\"Enter Second Number\"))\n",
    "\n",
    "if  operator == \"+\":\n",
    "    print(first+second)\n",
    "elif operator == \"-\":\n",
    "    print(first+second)\n",
    "elif operator == \"*\":\n",
    "    print(first*second)\n",
    "elif operator == \"**\":\n",
    "    print(first**second)\n",
    "elif operator == \"/\":\n",
    "    print(first**second)\n",
    "elif operator == \"//\":\n",
    "    print(first//second)\n",
    "else:\n",
    "    print(\"Please Select Operator\")"
   ]
  },
  {
   "cell_type": "code",
   "execution_count": 13,
   "id": "e16d86cf",
   "metadata": {},
   "outputs": [
    {
     "data": {
      "text/plain": [
       "[0, 5, 4, 2, 1, 3]"
      ]
     },
     "execution_count": 13,
     "metadata": {},
     "output_type": "execute_result"
    }
   ],
   "source": [
    "def myfunc(x):\n",
    "    lst2=[]\n",
    "    for i in x:\n",
    "#         a = x[x[i]]\n",
    "#         print(a)\n",
    "        lst2.append(x[i])\n",
    "    return lst2\n",
    "        \n",
    "lst=[0,2,5,1,3,4]\n",
    "myfunc(lst)\n"
   ]
  },
  {
   "cell_type": "code",
   "execution_count": 4,
   "id": "07c915d9",
   "metadata": {},
   "outputs": [
    {
     "name": "stdout",
     "output_type": "stream",
     "text": [
      "10\n"
     ]
    }
   ],
   "source": [
    "lst=[[2,3,5],[1,2,3]]\n",
    "def accounts(x):\n",
    "    x = map(sum,lst)\n",
    "    return print(max(x))\n",
    "accounts(lst)"
   ]
  },
  {
   "cell_type": "code",
   "execution_count": 36,
   "id": "06e209a4",
   "metadata": {},
   "outputs": [
    {
     "data": {
      "text/plain": [
       "[1, 3, 2, 1, 1, 3, 2, 1]"
      ]
     },
     "execution_count": 36,
     "metadata": {},
     "output_type": "execute_result"
    }
   ],
   "source": [
    "nums = [1,3,2,1]\n",
    "def myfunc(x):\n",
    "    return nums +nums\n",
    "myfunc(nums)"
   ]
  },
  {
   "cell_type": "code",
   "execution_count": 45,
   "id": "e837316b",
   "metadata": {},
   "outputs": [
    {
     "name": "stdout",
     "output_type": "stream",
     "text": [
      "12\n",
      "345\n",
      "2\n",
      "6\n",
      "7896\n"
     ]
    }
   ],
   "source": [
    "a=[12,345,2,6,7896]    "
   ]
  },
  {
   "cell_type": "code",
   "execution_count": 80,
   "id": "bb972ffc",
   "metadata": {},
   "outputs": [
    {
     "data": {
      "text/plain": [
       "[5, 3, 15, 4]"
      ]
     },
     "execution_count": 80,
     "metadata": {},
     "output_type": "execute_result"
    }
   ],
   "source": [
    "lst=[5,8,15,19]\n",
    "def myfunc(x):\n",
    "    for i in range(1,4,2):\n",
    "        lst[i]-=lst[i-1]\n",
    "    return lst\n",
    "myfunc(lst)\n",
    "    "
   ]
  },
  {
   "cell_type": "code",
   "execution_count": 25,
   "id": "99033734",
   "metadata": {},
   "outputs": [
    {
     "name": "stdout",
     "output_type": "stream",
     "text": [
      "Enter number:121\n"
     ]
    },
    {
     "ename": "TypeError",
     "evalue": "'int' object is not subscriptable",
     "output_type": "error",
     "traceback": [
      "\u001b[1;31m---------------------------------------------------------------------------\u001b[0m",
      "\u001b[1;31mTypeError\u001b[0m                                 Traceback (most recent call last)",
      "Input \u001b[1;32mIn [25]\u001b[0m, in \u001b[0;36m<cell line: 2>\u001b[1;34m()\u001b[0m\n\u001b[0;32m      1\u001b[0m x\u001b[38;5;241m=\u001b[39m\u001b[38;5;28mint\u001b[39m(\u001b[38;5;28minput\u001b[39m((\u001b[38;5;124m\"\u001b[39m\u001b[38;5;124mEnter number:\u001b[39m\u001b[38;5;124m\"\u001b[39m)))  \n\u001b[1;32m----> 2\u001b[0m \u001b[38;5;28;01mif\u001b[39;00m x\u001b[38;5;241m==\u001b[39m\u001b[43mx\u001b[49m\u001b[43m[\u001b[49m\u001b[43m:\u001b[49m\u001b[43m:\u001b[49m\u001b[38;5;241;43m-\u001b[39;49m\u001b[38;5;241;43m1\u001b[39;49m\u001b[43m]\u001b[49m:  \n\u001b[0;32m      3\u001b[0m       \u001b[38;5;28mprint\u001b[39m(\u001b[38;5;124m\"\u001b[39m\u001b[38;5;124mThe letter is a palindrome\u001b[39m\u001b[38;5;124m\"\u001b[39m)  \n\u001b[0;32m      4\u001b[0m \u001b[38;5;28;01melse\u001b[39;00m:  \n",
      "\u001b[1;31mTypeError\u001b[0m: 'int' object is not subscriptable"
     ]
    }
   ],
   "source": [
    "x=int(input((\"Enter number:\")))  \n",
    "if x==x[::-1]:  \n",
    "      print(\"The letter is a palindrome\")  \n",
    "else:  \n",
    "      print(\"The letter is not a palindrome\")  "
   ]
  },
  {
   "cell_type": "code",
   "execution_count": 73,
   "id": "229a9278",
   "metadata": {},
   "outputs": [
    {
     "name": "stdout",
     "output_type": "stream",
     "text": [
      "2\n",
      "2 x 1 = 2\n",
      "2 x 2 = 4\n",
      "2 x 3 = 6\n",
      "2 x 4 = 8\n",
      "2 x 5 = 10\n",
      "2 x 6 = 12\n",
      "2 x 7 = 14\n",
      "2 x 8 = 16\n",
      "2 x 9 = 18\n",
      "2 x 10 = 20\n"
     ]
    }
   ],
   "source": [
    "a=int(input(\"\"))\n",
    "for i in range(1,11):\n",
    "    print(a,\"x\",i,\"=\",i*2)"
   ]
  },
  {
   "cell_type": "code",
   "execution_count": 81,
   "id": "9c3d9264",
   "metadata": {},
   "outputs": [
    {
     "name": "stdout",
     "output_type": "stream",
     "text": [
      "[5, 3, 7, 4]\n"
     ]
    }
   ],
   "source": [
    "z=[5,8,15,19]\n",
    "op=[z[0]]+[x-y for x,y in (zip(z[1:],z[:-1]))]\n",
    "print(op)"
   ]
  },
  {
   "cell_type": "code",
   "execution_count": 98,
   "id": "eec55032",
   "metadata": {},
   "outputs": [
    {
     "name": "stdout",
     "output_type": "stream",
     "text": [
      "{'shadab': 'khan'}\n"
     ]
    }
   ],
   "source": [
    "a = \"shadab:khan\"\n",
    "x = dict(i.split(\":\") for i in a.split(\";\"))\n",
    "print(x)"
   ]
  },
  {
   "cell_type": "code",
   "execution_count": 121,
   "id": "1b0515ea",
   "metadata": {},
   "outputs": [
    {
     "name": "stdout",
     "output_type": "stream",
     "text": [
      "shadabkhan\n",
      "{'s': 1, 'h': 1, 'a': 1, 'd': 1, 'b': 1, 'k': 1, 'n': 1}\n"
     ]
    }
   ],
   "source": [
    "a=input(\"\")\n",
    "b=dict()\n",
    "for i in a:\n",
    "    if i in b:\n",
    "        b[i]=+1\n",
    "    else:\n",
    "        b[i]=1\n",
    "print(b)"
   ]
  },
  {
   "cell_type": "code",
   "execution_count": 125,
   "id": "b2eeecf7",
   "metadata": {},
   "outputs": [
    {
     "name": "stdout",
     "output_type": "stream",
     "text": [
      "(1, 2, 3, 4, -5)\n"
     ]
    }
   ],
   "source": [
    "a=1,2,3,4,-5\n",
    "print(a)"
   ]
  },
  {
   "cell_type": "markdown",
   "id": "142f27e2",
   "metadata": {},
   "source": [
    "# sort the list without using inbuilt function"
   ]
  },
  {
   "cell_type": "code",
   "execution_count": 31,
   "id": "665941f0",
   "metadata": {},
   "outputs": [
    {
     "name": "stdout",
     "output_type": "stream",
     "text": [
      "[1, 3, 7, 10, 15]\n"
     ]
    }
   ],
   "source": [
    "lst = [1,10,7,15,3]\n",
    "for i in range(len(lst)):\n",
    "    for j in range(i+1,len(lst)):\n",
    "        if lst[i]>lst[j]:\n",
    "              lst[i],lst[j]=lst[j],lst[i]\n",
    "# print(lst[-3])\n",
    "print(lst)"
   ]
  },
  {
   "cell_type": "code",
   "execution_count": 7,
   "id": "ab1ef4ae",
   "metadata": {},
   "outputs": [
    {
     "name": "stdout",
     "output_type": "stream",
     "text": [
      "[10, 1, 15, 7, 4, 3]\n"
     ]
    }
   ],
   "source": [
    "lst = [1,10,7,15,3,4]\n",
    "for i in range(0,len(lst),2): \n",
    "    lst[i],lst[i+1]=lst[i+1],lst[i]\n",
    "print(lst)\n",
    "    "
   ]
  },
  {
   "cell_type": "code",
   "execution_count": 165,
   "id": "71301947",
   "metadata": {},
   "outputs": [
    {
     "name": "stdout",
     "output_type": "stream",
     "text": [
      "35\n"
     ]
    }
   ],
   "source": [
    "a=[12,34,5,4,65,35]\n",
    "a.sort()\n",
    "b=a[-2]\n",
    "print(b)"
   ]
  },
  {
   "cell_type": "code",
   "execution_count": 42,
   "id": "61ad1b5a",
   "metadata": {},
   "outputs": [
    {
     "name": "stdout",
     "output_type": "stream",
     "text": [
      "[1, 8, 27, 64]\n"
     ]
    }
   ],
   "source": [
    "def myfunc(x):\n",
    "    return x**3\n",
    "a=[1,2,3,4]\n",
    "obj=map(myfunc,a)\n",
    "print(list(obj))"
   ]
  },
  {
   "cell_type": "code",
   "execution_count": 1,
   "id": "c6616ef4",
   "metadata": {},
   "outputs": [
    {
     "name": "stdout",
     "output_type": "stream",
     "text": [
      "[1, 8, 27, 64]\n"
     ]
    }
   ],
   "source": [
    "lst=[1,2,3,4]\n",
    "obj=[i**3 for i in lst]\n",
    "print(obj)"
   ]
  },
  {
   "cell_type": "code",
   "execution_count": 10,
   "id": "03d3158e",
   "metadata": {},
   "outputs": [
    {
     "name": "stdout",
     "output_type": "stream",
     "text": [
      "[1, 8, 27, 64]\n"
     ]
    }
   ],
   "source": [
    "lst=[1,2,3,4]\n",
    "obj=list(map(lambda x:x**3,lst))\n",
    "print(obj)"
   ]
  },
  {
   "cell_type": "code",
   "execution_count": 20,
   "id": "16f7f842",
   "metadata": {},
   "outputs": [
    {
     "name": "stdout",
     "output_type": "stream",
     "text": [
      "15\n"
     ]
    }
   ],
   "source": [
    "def myfunc(func):\n",
    "    def inner(a,b):\n",
    "        return func(a,b)\n",
    "    return inner\n",
    "@myfunc\n",
    "def xyz(a,b):\n",
    "    print(a+b)\n",
    "xyz(10,5)"
   ]
  },
  {
   "cell_type": "markdown",
   "id": "bab4f8d2",
   "metadata": {},
   "source": [
    "# sort the list without using inbuilt function"
   ]
  },
  {
   "cell_type": "code",
   "execution_count": 85,
   "id": "0f945e21",
   "metadata": {},
   "outputs": [
    {
     "name": "stdout",
     "output_type": "stream",
     "text": [
      "[1, 2, 3, 4, 5]\n"
     ]
    }
   ],
   "source": [
    "lst=[5,4,3,2,1]\n",
    "for i in range(len(lst)):\n",
    "    for j in range(i+1,len(lst)):\n",
    "        if lst[i]>lst[j]:\n",
    "            lst[i],lst[j]=lst[j],lst[i]\n",
    "print(lst)\n",
    "            "
   ]
  },
  {
   "cell_type": "code",
   "execution_count": 92,
   "id": "c6804169",
   "metadata": {},
   "outputs": [
    {
     "name": "stdout",
     "output_type": "stream",
     "text": [
      "Enter the start of range:2\n",
      "Enter the end of range:5\n",
      "2 even\n",
      "3\n",
      "4 even\n",
      "5\n"
     ]
    }
   ],
   "source": [
    "# Python program to print Even Numbers in given range\n",
    "start = int(input(\"Enter the start of range:\"))\n",
    "end = int(input(\"Enter the end of range:\"))\n",
    "# iterating each number in list\n",
    "for num in range(start, end + 1):\n",
    "    if num % 2 != 0:\n",
    "        print(num)\n"
   ]
  },
  {
   "cell_type": "code",
   "execution_count": 95,
   "id": "8bbd5872",
   "metadata": {},
   "outputs": [
    {
     "name": "stdout",
     "output_type": "stream",
     "text": [
      "[1, 3]\n"
     ]
    }
   ],
   "source": [
    "a=[i for i in range(1,5) if i%2==1]\n",
    "print(a)"
   ]
  },
  {
   "cell_type": "markdown",
   "id": "5c559fb8",
   "metadata": {},
   "source": [
    "# print the only odd number"
   ]
  },
  {
   "cell_type": "code",
   "execution_count": 19,
   "id": "790d0b69",
   "metadata": {},
   "outputs": [
    {
     "name": "stdout",
     "output_type": "stream",
     "text": [
      "[1, 3, 5]\n"
     ]
    }
   ],
   "source": [
    "list1 = [1,2,3,4,5]\n",
    "# we can also print odd no's using lambda exp.\n",
    "odd= list(filter(lambda x: (x % 2 != 0), list1))\n",
    "print(odd)\n"
   ]
  },
  {
   "cell_type": "markdown",
   "id": "1f7699f7",
   "metadata": {},
   "source": [
    "# cube using lambda function"
   ]
  },
  {
   "cell_type": "code",
   "execution_count": 8,
   "id": "a1584ffa",
   "metadata": {},
   "outputs": [
    {
     "name": "stdout",
     "output_type": "stream",
     "text": [
      "[1, 8, 27, 64]\n"
     ]
    }
   ],
   "source": [
    "lst=[1,2,3,4]\n",
    "square=list(map(lambda x:(x**3),lst))\n",
    "print(square)"
   ]
  },
  {
   "cell_type": "code",
   "execution_count": 10,
   "id": "8116aa76",
   "metadata": {},
   "outputs": [
    {
     "name": "stdout",
     "output_type": "stream",
     "text": [
      "[1, 3]\n"
     ]
    }
   ],
   "source": [
    "lst=[1,2,3,4]\n",
    "odd=[i for i in lst if i%2==1]\n",
    "print(odd)"
   ]
  },
  {
   "cell_type": "markdown",
   "id": "0c82aecc",
   "metadata": {},
   "source": [
    "# generator"
   ]
  },
  {
   "cell_type": "code",
   "execution_count": 3,
   "id": "93572f3c",
   "metadata": {},
   "outputs": [
    {
     "name": "stdout",
     "output_type": "stream",
     "text": [
      "6\n",
      "8\n",
      "10\n",
      "12\n",
      "14\n"
     ]
    }
   ],
   "source": [
    "def square(y):\n",
    "    for i in range(y):\n",
    "        yield i+i\n",
    "        \n",
    "def test(x):\n",
    "    for i in square(5):\n",
    "        print(i+x) \n",
    "test(6)"
   ]
  },
  {
   "cell_type": "code",
   "execution_count": 16,
   "id": "279c200b",
   "metadata": {},
   "outputs": [
    {
     "name": "stdout",
     "output_type": "stream",
     "text": [
      "4\n"
     ]
    }
   ],
   "source": [
    "a=[1,2,3,4]\n",
    "b=0\n",
    "for i in a:\n",
    "    if i > b:\n",
    "        b=i\n",
    "print(b)"
   ]
  },
  {
   "cell_type": "code",
   "execution_count": 5,
   "id": "e0141cd7",
   "metadata": {},
   "outputs": [
    {
     "name": "stdout",
     "output_type": "stream",
     "text": [
      "144.0\n"
     ]
    }
   ],
   "source": [
    "dic={1:22.0,2:55.0,3:67.0}\n",
    "b=[]\n",
    "for i in dic.values():\n",
    "    b.append(float(i))\n",
    "print(sum(b))\n",
    "    "
   ]
  },
  {
   "cell_type": "markdown",
   "id": "9be07d73",
   "metadata": {},
   "source": [
    "# cube using function "
   ]
  },
  {
   "cell_type": "code",
   "execution_count": 57,
   "id": "cfb0b639",
   "metadata": {},
   "outputs": [
    {
     "name": "stdout",
     "output_type": "stream",
     "text": [
      "[1, 8, 27, 64]\n"
     ]
    }
   ],
   "source": [
    "def square(x):\n",
    "    for i in x:\n",
    "        lst=i**3\n",
    "        b.append(lst)\n",
    "    print(b)\n",
    "lst=[1,2,3,4]\n",
    "b=[]\n",
    "square(lst)\n"
   ]
  },
  {
   "cell_type": "markdown",
   "id": "22b35b98",
   "metadata": {},
   "source": [
    "# shuffle"
   ]
  },
  {
   "cell_type": "code",
   "execution_count": 21,
   "id": "0c8ee827",
   "metadata": {},
   "outputs": [
    {
     "name": "stdout",
     "output_type": "stream",
     "text": [
      "[1, 4, 2, 3, 3, 2, 4, 1]\n"
     ]
    }
   ],
   "source": [
    "a=[1,2,3,4,4,3,2,1]\n",
    "n=4\n",
    "b=[]\n",
    "for i in range(n):\n",
    "    b.append(a[i])\n",
    "    b.append(a[i+n])\n",
    "print(b)\n",
    "    "
   ]
  },
  {
   "cell_type": "code",
   "execution_count": 20,
   "id": "3ee9a85c",
   "metadata": {},
   "outputs": [
    {
     "name": "stdout",
     "output_type": "stream",
     "text": [
      "1\n",
      "8\n",
      "27\n",
      "64\n"
     ]
    }
   ],
   "source": [
    "def square():\n",
    "    for i in range(1,5):\n",
    "        print(i**3)\n",
    "square()"
   ]
  },
  {
   "cell_type": "code",
   "execution_count": 32,
   "id": "d88c4b88",
   "metadata": {},
   "outputs": [
    {
     "name": "stdout",
     "output_type": "stream",
     "text": [
      "3\n",
      "3\n",
      "9\n"
     ]
    }
   ],
   "source": [
    "def myfunc(x,y):\n",
    "    a=x*y\n",
    "    print(a)\n",
    "    return a\n",
    "a=int(input())\n",
    "b=int(input())\n",
    "obj=myfunc(a,b)"
   ]
  },
  {
   "cell_type": "markdown",
   "id": "e34290a8",
   "metadata": {},
   "source": [
    "# multipel inheritance"
   ]
  },
  {
   "cell_type": "code",
   "execution_count": 36,
   "id": "fb511d37",
   "metadata": {},
   "outputs": [
    {
     "name": "stdout",
     "output_type": "stream",
     "text": [
      "hello\n",
      "hello2\n"
     ]
    }
   ],
   "source": [
    "class Person():\n",
    "    def show(self):\n",
    "        print(\"hello\")\n",
    "        \n",
    "class Student():\n",
    "    def mark(self):\n",
    "        print(\"hello2\")\n",
    "        \n",
    "class Teacher(Person,Student):\n",
    "    def work(self):\n",
    "        print(\"hello3\")\n",
    "        \n",
    "obj=Teacher()\n",
    "obj.show()\n",
    "obj.mark()"
   ]
  },
  {
   "cell_type": "markdown",
   "id": "355b0883",
   "metadata": {},
   "source": [
    "# multilevel inheritance"
   ]
  },
  {
   "cell_type": "code",
   "execution_count": 1,
   "id": "d79049b9",
   "metadata": {},
   "outputs": [
    {
     "name": "stdout",
     "output_type": "stream",
     "text": [
      "hello3\n",
      "hello1\n",
      "hello\n"
     ]
    }
   ],
   "source": [
    "class Person():\n",
    "    def show(self):\n",
    "        print(\"hello\")\n",
    "        \n",
    "class Student(Person):\n",
    "    def work(self):\n",
    "        print(\"hello1\")\n",
    "        \n",
    "class Teacher(Student):\n",
    "    def mark(self):\n",
    "        print(\"hello3\")\n",
    "        \n",
    "obj=Teacher()\n",
    "obj.mark()\n",
    "obj.work()\n",
    "obj.show()"
   ]
  },
  {
   "cell_type": "markdown",
   "id": "926b6c70",
   "metadata": {},
   "source": [
    "# Hierarchical Inheritance"
   ]
  },
  {
   "cell_type": "code",
   "execution_count": 40,
   "id": "f4408c4e",
   "metadata": {},
   "outputs": [],
   "source": [
    "class Person():\n",
    "    def show(self):\n",
    "        print(\"hello1\")\n",
    "        \n",
    "class Student(Person):\n",
    "    def work(self):\n",
    "        print(\"hello3\")\n",
    "        \n",
    "class Teacher(Person):\n",
    "    def mark(self):\n",
    "        print(\"hello2\")\n",
    "        \n",
    "obj=Teacher()\n",
    "obj."
   ]
  },
  {
   "cell_type": "code",
   "execution_count": 57,
   "id": "d170ac65",
   "metadata": {},
   "outputs": [
    {
     "name": "stdout",
     "output_type": "stream",
     "text": [
      "32323\n",
      "32323 x 1 = 32323\n",
      "32323 x 2 = 64646\n",
      "32323 x 3 = 96969\n",
      "32323 x 4 = 129292\n",
      "32323 x 5 = 161615\n",
      "32323 x 6 = 193938\n",
      "32323 x 7 = 226261\n",
      "32323 x 8 = 258584\n",
      "32323 x 9 = 290907\n",
      "32323 x 10 = 323230\n"
     ]
    }
   ],
   "source": [
    "def table(n):\n",
    "    for i in range(1,11):\n",
    "        print(n,\"x\",i,\"=\",n*i)\n",
    "x=int(input())\n",
    "table(x)"
   ]
  },
  {
   "cell_type": "code",
   "execution_count": 7,
   "id": "9fb1fe61",
   "metadata": {},
   "outputs": [
    {
     "name": "stdout",
     "output_type": "stream",
     "text": [
      "The maximum element of the list is : 5\n"
     ]
    }
   ],
   "source": [
    "import functools\n",
    "lst=[1,2,3,4,5]\n",
    "print(\"The maximum element of the list is : \", end=\"\")\n",
    "print(functools.reduce(lambda a, b: a if a > b else b, lst))"
   ]
  },
  {
   "cell_type": "code",
   "execution_count": 22,
   "id": "4fa39232",
   "metadata": {},
   "outputs": [
    {
     "name": "stdout",
     "output_type": "stream",
     "text": [
      "[1, 4, 2, 3, 3, 2, 4, 1]\n"
     ]
    }
   ],
   "source": [
    "nums = [1,2,3,4,4,3,2,1]\n",
    "n=4\n",
    "b=[]\n",
    "for i in range(n):\n",
    "    b.append(nums[i])\n",
    "    b.append(nums[i+n])\n",
    "print(b)\n",
    "# [1,4,2,3,3,2,4,1]"
   ]
  },
  {
   "cell_type": "code",
   "execution_count": 107,
   "id": "7faedb13",
   "metadata": {},
   "outputs": [
    {
     "name": "stdout",
     "output_type": "stream",
     "text": [
      "['apple', 'banana', 'cherry', 'dangerous']\n"
     ]
    }
   ],
   "source": [
    "v=[\"banana\",\"cherry\",\"apple\",\"dangerous\"]\n",
    "for i in range(len(v)):\n",
    "    for j in range(i+1,len(v)):\n",
    "        if v[i]>v[j]:\n",
    "            v[i],v[j]=v[j],v[i]\n",
    "print(v)"
   ]
  },
  {
   "cell_type": "code",
   "execution_count": 19,
   "id": "cc82f9ff",
   "metadata": {},
   "outputs": [
    {
     "name": "stdout",
     "output_type": "stream",
     "text": [
      "1\n"
     ]
    }
   ],
   "source": [
    "v=[2,9,22,1,14,10]\n",
    "b=v[0]\n",
    "for i in v:\n",
    "    if i < b:\n",
    "        b=i\n",
    "print(b)"
   ]
  },
  {
   "cell_type": "code",
   "execution_count": 56,
   "id": "989570aa",
   "metadata": {},
   "outputs": [
    {
     "ename": "ValueError",
     "evalue": "dictionary update sequence element #0 has length 3; 2 is required",
     "output_type": "error",
     "traceback": [
      "\u001b[1;31m---------------------------------------------------------------------------\u001b[0m",
      "\u001b[1;31mValueError\u001b[0m                                Traceback (most recent call last)",
      "Input \u001b[1;32mIn [56]\u001b[0m, in \u001b[0;36m<cell line: 2>\u001b[1;34m()\u001b[0m\n\u001b[0;32m      1\u001b[0m lst\u001b[38;5;241m=\u001b[39m[{\u001b[38;5;124m\"\u001b[39m\u001b[38;5;124madnan\u001b[39m\u001b[38;5;124m\"\u001b[39m:{\u001b[38;5;124m\"\u001b[39m\u001b[38;5;124mscore\u001b[39m\u001b[38;5;124m\"\u001b[39m:\u001b[38;5;241m101\u001b[39m},\u001b[38;5;124m\"\u001b[39m\u001b[38;5;124mshanawaz\u001b[39m\u001b[38;5;124m\"\u001b[39m:{\u001b[38;5;124m\"\u001b[39m\u001b[38;5;124mscore\u001b[39m\u001b[38;5;124m\"\u001b[39m:\u001b[38;5;241m99\u001b[39m},\u001b[38;5;124m\"\u001b[39m\u001b[38;5;124msaud\u001b[39m\u001b[38;5;124m\"\u001b[39m:{\u001b[38;5;124m\"\u001b[39m\u001b[38;5;124mscore\u001b[39m\u001b[38;5;124m\"\u001b[39m:\u001b[38;5;241m121\u001b[39m}}]\n\u001b[1;32m----> 2\u001b[0m m\u001b[38;5;241m=\u001b[39m\u001b[38;5;28;43mdict\u001b[39;49m\u001b[43m(\u001b[49m\u001b[43mlst\u001b[49m\u001b[43m)\u001b[49m\n\u001b[0;32m      3\u001b[0m \u001b[38;5;28mprint\u001b[39m(m)\n",
      "\u001b[1;31mValueError\u001b[0m: dictionary update sequence element #0 has length 3; 2 is required"
     ]
    }
   ],
   "source": [
    "lst=[{\"adnan\":{\"score\":101},\"shanawaz\":{\"score\":99},\"saud\":{\"score\":121}}]\n",
    "max=0\n",
    "st=''\n",
    "for i in lst:\n",
    "      "
   ]
  },
  {
   "cell_type": "code",
   "execution_count": 57,
   "id": "e7de3daf",
   "metadata": {},
   "outputs": [
    {
     "name": "stdout",
     "output_type": "stream",
     "text": [
      "Yes\n"
     ]
    }
   ],
   "source": [
    "import string\n",
    "  \n",
    "def ispangram(str):\n",
    "    alphabet = \"abcdefghijklmnopqrstuvwxyz\"\n",
    "    for char in alphabet:\n",
    "        if char not in str.lower():\n",
    "            return False \n",
    "    return True\n",
    "      \n",
    "# Driver code\n",
    "string = 'the quick brown fox jumps over the lazy dog'\n",
    "if(ispangram(string) == True):\n",
    "    print(\"Yes\")\n",
    "else:\n",
    "    print(\"No\")"
   ]
  },
  {
   "cell_type": "code",
   "execution_count": 86,
   "id": "97cdd570",
   "metadata": {},
   "outputs": [
    {
     "name": "stdout",
     "output_type": "stream",
     "text": [
      "kjkjjhgjhghuyuyl;ljlkuiouyyg\n",
      "6\n",
      "['u', 'u', 'u', 'i', 'o', 'u']\n"
     ]
    }
   ],
   "source": [
    "def Check_Vow(x, vowels):\n",
    "    a = [i for i in x if i in vowels]\n",
    "    print(len(a))\n",
    "    print(a)\n",
    "     \n",
    "# Driver Code\n",
    "x =input()\n",
    "vowels = \"AaEeIiOoUu\"\n",
    "Check_Vow(x, vowels);"
   ]
  },
  {
   "cell_type": "code",
   "execution_count": 5,
   "id": "0087ab52",
   "metadata": {},
   "outputs": [
    {
     "name": "stdout",
     "output_type": "stream",
     "text": [
      "{'S002', 'S007', 'S001', 'S005', 'S009'}\n"
     ]
    }
   ],
   "source": [
    "data=[{\"V\":\"S001\"}, {\"V\": \"S002\"}, {\"VI\": \"S001\"}, {\"VI\": \"S005\"}, {\"VII\":\"S005\"}, {\"V\":\"S009\"},{\"VIII\":\"S007\"}]\n",
    "x=set({j for i in data for j in i.values()})\n",
    "print(x)\n"
   ]
  },
  {
   "cell_type": "code",
   "execution_count": 7,
   "id": "24592296",
   "metadata": {},
   "outputs": [
    {
     "name": "stdout",
     "output_type": "stream",
     "text": [
      "{'S002', 'S007', 'S005', 'S009', 'S001'}\n"
     ]
    }
   ],
   "source": [
    "data=[{\"V\":\"S001\"}, {\"V\": \"S002\"}, {\"VI\": \"S001\"}, {\"VI\": \"S005\"}, {\"VII\":\"S005\"}, {\"V\":\"S009\"},{\"VIII\":\"S007\"}]\n",
    "x=set()\n",
    "for i in data:\n",
    "    for j in i.values():\n",
    "        x.add(j)\n",
    "print(x)"
   ]
  },
  {
   "cell_type": "code",
   "execution_count": 35,
   "id": "56409dd3",
   "metadata": {},
   "outputs": [
    {
     "name": "stdout",
     "output_type": "stream",
     "text": [
      "1\n",
      "0\n"
     ]
    }
   ],
   "source": [
    "lst=[1,2,3,4,5]\n",
    "x=int(input())\n",
    "for i in range(len(lst)):\n",
    "    if x == lst[i]:\n",
    "        print(i)\n",
    "        break\n",
    "else:\n",
    "    print(-1) "
   ]
  },
  {
   "cell_type": "code",
   "execution_count": 8,
   "id": "f1741b35",
   "metadata": {},
   "outputs": [
    {
     "name": "stdout",
     "output_type": "stream",
     "text": [
      "{'a': 200, 'b': 400, 'c': 300, 'd': 400}\n"
     ]
    }
   ],
   "source": [
    "d1={'a':100,'b':200,'c':300}\n",
    "d2={'a':100,'b':200,'d':400}\n",
    "for i in d2:\n",
    "    if i in d1:\n",
    "        d1[i]=d1[i]+d2[i]\n",
    "    else:\n",
    "        d1[i]=d2[i]\n",
    "print(d1)"
   ]
  },
  {
   "cell_type": "code",
   "execution_count": 27,
   "id": "47aae573",
   "metadata": {},
   "outputs": [
    {
     "name": "stdout",
     "output_type": "stream",
     "text": [
      "{'a': 205, 'b': 200}\n"
     ]
    }
   ],
   "source": [
    "dic={'a':200,'b':100,'B':100}\n",
    "x={i.lower():dic.get(i.lower())+dic.get(i.upper(),5) for i in dic}\n",
    "print(x)"
   ]
  },
  {
   "cell_type": "code",
   "execution_count": 33,
   "id": "85260684",
   "metadata": {},
   "outputs": [
    {
     "name": "stdout",
     "output_type": "stream",
     "text": [
      "Enter number: 10\n",
      "enter number: 55\n",
      "enter number: 25\n",
      "enter number: 1\n",
      "enter number: 23\n",
      "enter number: 5\n",
      "enter number: 63\n",
      "enter number: 5\n",
      "enter number: 5\n",
      "enter number: 5\n",
      "enter number: 5\n",
      "[] even\n",
      "[55, 25, 1, 23, 5, 63, 5, 5, 5, 5] odd\n"
     ]
    }
   ],
   "source": [
    "n=int(input(\"Enter number: \"))\n",
    "a=[]\n",
    "b=[]\n",
    "c=[]\n",
    "for i in range(n):\n",
    "    x=int(input( 'enter number: '))\n",
    "    a.append(x)\n",
    "    if x%2==0:\n",
    "        b.append(x)\n",
    "    else:\n",
    "        c.append(x)\n",
    "print(b,\"even\")\n",
    "print(c,\"odd\")"
   ]
  },
  {
   "cell_type": "code",
   "execution_count": 55,
   "id": "8f6f625a",
   "metadata": {},
   "outputs": [
    {
     "name": "stdout",
     "output_type": "stream",
     "text": [
      "70\n"
     ]
    }
   ],
   "source": [
    "a = {\n",
    "    \"class\": {\n",
    "        \"student\": {\n",
    "            \"name\": \"Mike\",\n",
    "            \"marks\": {\n",
    "                \"physics\": 70,\n",
    "                \"history\": 80\n",
    "}}}}\n",
    "for i in a.values():\n",
    "    x=i.get('student')['marks']['physics']\n",
    "print(x)"
   ]
  },
  {
   "cell_type": "code",
   "execution_count": 60,
   "id": "cf5d8eb9",
   "metadata": {},
   "outputs": [
    {
     "name": "stdout",
     "output_type": "stream",
     "text": [
      "select your password: 123\n",
      "Enter your password: 12\n",
      "Please Enter Your correct password: 12\n",
      "Please Enter Your correct password: 123\n",
      "correct password\n"
     ]
    }
   ],
   "source": [
    "a=input(\"select your password: \")\n",
    "n=input(\"Enter your password: \")\n",
    "while True:\n",
    "    if n == a:\n",
    "        print(\"correct password\")\n",
    "        break\n",
    "    else:\n",
    "        n=input(\"Please Enter Your correct password: \")\n",
    "        \n",
    "    "
   ]
  },
  {
   "cell_type": "code",
   "execution_count": 16,
   "id": "2d303975",
   "metadata": {},
   "outputs": [
    {
     "name": "stdout",
     "output_type": "stream",
     "text": [
      "3\n",
      "3 * 1 = 3\n",
      "3 * 2 = 6\n",
      "3 * 3 = 9\n",
      "3 * 4 = 12\n",
      "3 * 5 = 15\n",
      "3 * 6 = 18\n",
      "3 * 7 = 21\n",
      "3 * 8 = 24\n",
      "3 * 9 = 27\n",
      "3 * 10 = 30\n"
     ]
    }
   ],
   "source": [
    "def myfunc(x):\n",
    "    for i in range(1,11):\n",
    "        print(x,\"*\",i,\"=\",i*x)\n",
    "n=int(input())\n",
    "myfunc(n)"
   ]
  },
  {
   "cell_type": "code",
   "execution_count": 11,
   "id": "fa29af6b",
   "metadata": {},
   "outputs": [
    {
     "name": "stdout",
     "output_type": "stream",
     "text": [
      "5\n"
     ]
    }
   ],
   "source": [
    "lst=[22,5,30,223]\n",
    "b=lst[0]\n",
    "for i in lst:\n",
    "    if i < b:\n",
    "        b=i\n",
    "print(b)"
   ]
  },
  {
   "cell_type": "code",
   "execution_count": 29,
   "id": "0d0d88c0",
   "metadata": {},
   "outputs": [
    {
     "ename": "TypeError",
     "evalue": "can only concatenate str (not \"int\") to str",
     "output_type": "error",
     "traceback": [
      "\u001b[1;31m---------------------------------------------------------------------------\u001b[0m",
      "\u001b[1;31mTypeError\u001b[0m                                 Traceback (most recent call last)",
      "Input \u001b[1;32mIn [29]\u001b[0m, in \u001b[0;36m<cell line: 2>\u001b[1;34m()\u001b[0m\n\u001b[0;32m      1\u001b[0m lst\u001b[38;5;241m=\u001b[39m[\u001b[38;5;124m\"\u001b[39m\u001b[38;5;124mnittin\u001b[39m\u001b[38;5;124m\"\u001b[39m,\u001b[38;5;241m1221\u001b[39m,\u001b[38;5;241m1234\u001b[39m,\u001b[38;5;124m\"\u001b[39m\u001b[38;5;124mAdda\u001b[39m\u001b[38;5;124m\"\u001b[39m]\n\u001b[0;32m      2\u001b[0m \u001b[38;5;28;01mfor\u001b[39;00m i \u001b[38;5;129;01min\u001b[39;00m lst:\n\u001b[1;32m----> 3\u001b[0m     lst[\u001b[43mi\u001b[49m\u001b[38;5;241;43m+\u001b[39;49m\u001b[38;5;241;43m1\u001b[39;49m]\u001b[38;5;241m+\u001b[39mlst[i\u001b[38;5;241m+\u001b[39m\u001b[38;5;241m1\u001b[39m]\n\u001b[0;32m      4\u001b[0m \u001b[38;5;28mprint\u001b[39m(lst)\n",
      "\u001b[1;31mTypeError\u001b[0m: can only concatenate str (not \"int\") to str"
     ]
    }
   ],
   "source": [
    "lst=[\"nittin\",1221,1234,\"Adda\"]\n"
   ]
  },
  {
   "cell_type": "code",
   "execution_count": 33,
   "id": "01be722a",
   "metadata": {},
   "outputs": [
    {
     "ename": "AttributeError",
     "evalue": "'str' object has no attribute 'get'",
     "output_type": "error",
     "traceback": [
      "\u001b[1;31m---------------------------------------------------------------------------\u001b[0m",
      "\u001b[1;31mAttributeError\u001b[0m                            Traceback (most recent call last)",
      "Input \u001b[1;32mIn [33]\u001b[0m, in \u001b[0;36m<cell line: 4>\u001b[1;34m()\u001b[0m\n\u001b[0;32m      1\u001b[0m a\u001b[38;5;241m=\u001b[39m {\u001b[38;5;124m'\u001b[39m\u001b[38;5;124mTimur\u001b[39m\u001b[38;5;124m'\u001b[39m: {\u001b[38;5;124m'\u001b[39m\u001b[38;5;124mhistory\u001b[39m\u001b[38;5;124m'\u001b[39m: \u001b[38;5;241m90\u001b[39m, \u001b[38;5;124m'\u001b[39m\u001b[38;5;124mmath\u001b[39m\u001b[38;5;124m'\u001b[39m: \u001b[38;5;241m95\u001b[39m, \u001b[38;5;124m'\u001b[39m\u001b[38;5;124mliterature\u001b[39m\u001b[38;5;124m'\u001b[39m: \u001b[38;5;241m91\u001b[39m},\n\u001b[0;32m      2\u001b[0m          \u001b[38;5;124m'\u001b[39m\u001b[38;5;124mOlga\u001b[39m\u001b[38;5;124m'\u001b[39m: {\u001b[38;5;124m'\u001b[39m\u001b[38;5;124mhistory\u001b[39m\u001b[38;5;124m'\u001b[39m: \u001b[38;5;241m92\u001b[39m, \u001b[38;5;124m'\u001b[39m\u001b[38;5;124mmath\u001b[39m\u001b[38;5;124m'\u001b[39m: \u001b[38;5;241m96\u001b[39m, \u001b[38;5;124m'\u001b[39m\u001b[38;5;124mliterature\u001b[39m\u001b[38;5;124m'\u001b[39m: \u001b[38;5;241m81\u001b[39m},\n\u001b[0;32m      3\u001b[0m          \u001b[38;5;124m'\u001b[39m\u001b[38;5;124mNik\u001b[39m\u001b[38;5;124m'\u001b[39m: {\u001b[38;5;124m'\u001b[39m\u001b[38;5;124mhistory\u001b[39m\u001b[38;5;124m'\u001b[39m: \u001b[38;5;241m84\u001b[39m, \u001b[38;5;124m'\u001b[39m\u001b[38;5;124mmath\u001b[39m\u001b[38;5;124m'\u001b[39m: \u001b[38;5;241m85\u001b[39m, \u001b[38;5;124m'\u001b[39m\u001b[38;5;124mliterature\u001b[39m\u001b[38;5;124m'\u001b[39m: \u001b[38;5;241m87\u001b[39m}}\n\u001b[0;32m      4\u001b[0m \u001b[38;5;28;01mfor\u001b[39;00m i \u001b[38;5;129;01min\u001b[39;00m a:\n\u001b[1;32m----> 5\u001b[0m     x\u001b[38;5;241m=\u001b[39m\u001b[43mi\u001b[49m\u001b[38;5;241;43m.\u001b[39;49m\u001b[43mget\u001b[49m(\u001b[38;5;124m'\u001b[39m\u001b[38;5;124mTimur\u001b[39m\u001b[38;5;124m'\u001b[39m)\n\u001b[0;32m      6\u001b[0m \u001b[38;5;28mprint\u001b[39m(x)\n",
      "\u001b[1;31mAttributeError\u001b[0m: 'str' object has no attribute 'get'"
     ]
    }
   ],
   "source": [
    "a= {'Timur': {'history': 90, 'math': 95, 'literature': 91},\n",
    "         'Olga': {'history': 92, 'math': 96, 'literature': 81},\n",
    "         'Nik': {'history': 84, 'math': 85, 'literature': 87}}\n",
    "for i in a:\n",
    "    x=i.get('Timur')\n",
    "print(x)"
   ]
  },
  {
   "cell_type": "code",
   "execution_count": null,
   "id": "ffa89da1",
   "metadata": {},
   "outputs": [],
   "source": [
    "Output:\n",
    "{'Timur': 'math', 'Olga': 'math', 'Nik': 'literature'}"
   ]
  },
  {
   "cell_type": "code",
   "execution_count": 23,
   "id": "87280b60",
   "metadata": {},
   "outputs": [
    {
     "name": "stdout",
     "output_type": "stream",
     "text": [
      "(1, 2, 3, 4)\n"
     ]
    }
   ],
   "source": [
    "a=[1,2,3,4]\n",
    "a,b,c,d=x\n",
    "x=a,b,c,d\n",
    "print(x)"
   ]
  },
  {
   "cell_type": "code",
   "execution_count": 51,
   "id": "59c48ef5",
   "metadata": {},
   "outputs": [
    {
     "name": "stdout",
     "output_type": "stream",
     "text": [
      "2\n",
      "3\n",
      "5\n",
      "7\n",
      "11\n",
      "13\n",
      "17\n",
      "19\n",
      "23\n",
      "29\n",
      "31\n",
      "37\n",
      "41\n",
      "43\n",
      "47\n",
      "53\n",
      "59\n",
      "61\n",
      "67\n",
      "71\n",
      "73\n",
      "79\n",
      "83\n",
      "89\n",
      "97\n"
     ]
    }
   ],
   "source": [
    "for i in range(2,101):\n",
    "    prime = True\n",
    "    for j in range(2,i):\n",
    "        if (i%j==0):\n",
    "            prime = False\n",
    "    if prime== True:\n",
    "        print (i)"
   ]
  },
  {
   "cell_type": "code",
   "execution_count": 32,
   "id": "b35e06e7",
   "metadata": {},
   "outputs": [
    {
     "name": "stdout",
     "output_type": "stream",
     "text": [
      "[2, 1, 4, 3]\n"
     ]
    }
   ],
   "source": [
    "lst=[1,2,3,4]\n",
    "for i in range(0,len(lst),2):\n",
    "#     if lst[i] >lst[i+1]\n",
    "    lst[i],lst[i+1]=lst[i+1],lst[i]\n",
    "print(lst)"
   ]
  },
  {
   "cell_type": "code",
   "execution_count": null,
   "id": "c85236e2",
   "metadata": {},
   "outputs": [],
   "source": [
    "lst=[\"bilal\",\"ashar\"]\n",
    "obj=iter(lst)\n",
    "c=\n"
   ]
  },
  {
   "cell_type": "code",
   "execution_count": 36,
   "id": "532505bc",
   "metadata": {},
   "outputs": [
    {
     "name": "stdout",
     "output_type": "stream",
     "text": [
      "(1, 2, 3)\n"
     ]
    }
   ],
   "source": [
    "x=1,2,3\n",
    "print(x)"
   ]
  },
  {
   "cell_type": "code",
   "execution_count": 1,
   "id": "284887fc",
   "metadata": {},
   "outputs": [
    {
     "name": "stdout",
     "output_type": "stream",
     "text": [
      "1\n"
     ]
    }
   ],
   "source": [
    "class powtwo:\n",
    "    def __init__(self,max=0):\n",
    "        self.max=max\n",
    "    def __iter__(self):\n",
    "        self.n=0\n",
    "        return self\n",
    "    def __next__(self):\n",
    "        if self.n <= self.max:\n",
    "            result=2**self.n\n",
    "            self.n+=1\n",
    "            return result\n",
    "        else: \n",
    "            return \"stop Iteration\"\n",
    "obj=powtwo(10)\n",
    "a=iter(obj)\n",
    "c=next(a)\n",
    "print(c)\n",
    "            "
   ]
  },
  {
   "cell_type": "code",
   "execution_count": 2,
   "id": "72ef2511",
   "metadata": {},
   "outputs": [
    {
     "name": "stdout",
     "output_type": "stream",
     "text": [
      "8.25\n"
     ]
    }
   ],
   "source": [
    "n1=50\n",
    "n2=2\n",
    "n3=3\n",
    "n4=8\n",
    "result= n1/n4-n3*n2+n4\n",
    "print(result)"
   ]
  },
  {
   "cell_type": "code",
   "execution_count": 4,
   "id": "e77cce2a",
   "metadata": {},
   "outputs": [
    {
     "name": "stdout",
     "output_type": "stream",
     "text": [
      "4\n"
     ]
    }
   ],
   "source": [
    "lst=[1,2,3,1,1,3]\n",
    "a=0\n",
    "for i in range(len(lst)):\n",
    "    for j in range(i+1,len(lst)):\n",
    "        if lst[i] == lst[j]:\n",
    "            a+=1\n",
    "print(a)\n",
    "\n",
    "\n"
   ]
  },
  {
   "cell_type": "code",
   "execution_count": 17,
   "id": "74e12db7",
   "metadata": {},
   "outputs": [
    {
     "name": "stdout",
     "output_type": "stream",
     "text": [
      "enter first number: 5\n",
      "enter second number: 2\n",
      "2.5\n",
      "error\n",
      "finally\n"
     ]
    }
   ],
   "source": [
    "a=int(input(\"enter first number: \"))\n",
    "b=int(input(\"enter second number: \"))\n",
    "try:\n",
    "    c=a/b\n",
    "    print(c)\n",
    "except:\n",
    "    print(\"division by zero is not allowed\")  \n",
    "else:\n",
    "    print(\"error\")\n",
    "finally:\n",
    "    print(\"finally\")"
   ]
  },
  {
   "cell_type": "code",
   "execution_count": 57,
   "id": "d2873183",
   "metadata": {},
   "outputs": [
    {
     "name": "stdout",
     "output_type": "stream",
     "text": [
      "True\n"
     ]
    }
   ],
   "source": [
    "a=\"string123\"\n",
    "if a.isalnum():\n",
    "    print(True)\n",
    "else:\n",
    "    print(False)"
   ]
  },
  {
   "cell_type": "code",
   "execution_count": 58,
   "id": "2640a9a2",
   "metadata": {},
   "outputs": [
    {
     "name": "stdout",
     "output_type": "stream",
     "text": [
      "6\n",
      "8\n",
      "7\n"
     ]
    }
   ],
   "source": [
    "a=[2,4,3]\n",
    "b=[5,6,4]\n",
    "for i in a:\n",
    "    for j in b:\n",
    "        x=i+j\n",
    "    print(x)"
   ]
  },
  {
   "cell_type": "code",
   "execution_count": 52,
   "id": "77134d6d",
   "metadata": {},
   "outputs": [
    {
     "data": {
      "text/plain": [
       "[4, 5, 3, 4]"
      ]
     },
     "execution_count": 52,
     "metadata": {},
     "output_type": "execute_result"
    }
   ],
   "source": [
    "a=[4,54,3,4,5,6,4,23]\n",
    "# output:- [4,5,3,4]\n",
    "a[-2::-2]"
   ]
  },
  {
   "cell_type": "code",
   "execution_count": 121,
   "id": "1fcb5902",
   "metadata": {
    "scrolled": false
   },
   "outputs": [
    {
     "name": "stdout",
     "output_type": "stream",
     "text": [
      "even\n",
      "even\n",
      "odd\n",
      "odd\n",
      "odd\n"
     ]
    }
   ],
   "source": [
    "a=[11,13, 123, 678,786]\n",
    "for i in a:\n",
    "    if len(str(i))%2==0:\n",
    "        print(\"even\")\n",
    "    else:\n",
    "        print(\"odd\")\n",
    "    "
   ]
  },
  {
   "cell_type": "code",
   "execution_count": 125,
   "id": "6d453b81",
   "metadata": {},
   "outputs": [
    {
     "name": "stdout",
     "output_type": "stream",
     "text": [
      "[1, 4]\n"
     ]
    }
   ],
   "source": [
    "lst=[1,2,2,3,3,4,5,5,6,6,6]\n",
    "x=set(lst)\n",
    "y=list(x)\n",
    "print(y[0::3])"
   ]
  },
  {
   "cell_type": "code",
   "execution_count": 21,
   "id": "e74b74ba",
   "metadata": {},
   "outputs": [
    {
     "name": "stdout",
     "output_type": "stream",
     "text": [
      "[5, 2, 3, 4, 1]\n"
     ]
    }
   ],
   "source": [
    "a=[1,2,3,4,5]\n",
    "for i in range(len(a)):\n",
    "    a[0],a[-1]=a[-1],a[0]\n",
    "print(a)"
   ]
  },
  {
   "cell_type": "code",
   "execution_count": 23,
   "id": "94e62f60",
   "metadata": {},
   "outputs": [
    {
     "name": "stdout",
     "output_type": "stream",
     "text": [
      "[1, 2, 3]\n",
      "[1, 2, 3, 4, 5]\n",
      "[1, 2, 3, 4, 5]\n"
     ]
    }
   ],
   "source": [
    "my_list1 = [1, 2, 3]\n",
    "\n",
    "# Using = operator\n",
    "new_list = my_list1\n",
    "# printing the new list\n",
    "print(new_list)\n",
    "# Output [1, 2, 3]\n",
    "\n",
    "# making changes in the original list\n",
    "my_list1.append(4)\n",
    "new_list.append(5)\n",
    "\n",
    "# print both copies\n",
    "print(my_list1)\n",
    "# result [1, 2, 3, 4]\n",
    "print(new_list)"
   ]
  },
  {
   "cell_type": "code",
   "execution_count": 30,
   "id": "1a2fa2e2",
   "metadata": {},
   "outputs": [
    {
     "name": "stdout",
     "output_type": "stream",
     "text": [
      "[1, 2, 3, 4, [8, 9], 5]\n",
      "[1, 2, 3, 4, [8, 9]]\n"
     ]
    }
   ],
   "source": [
    "from copy import copy\n",
    "list_1=[1,2,3,4,[8,9]]\n",
    "list_2=copy(list_1)\n",
    "list_1.append(5)\n",
    "print(list_1)\n",
    "print(list_2)"
   ]
  },
  {
   "cell_type": "code",
   "execution_count": 11,
   "id": "c604a7de",
   "metadata": {},
   "outputs": [
    {
     "name": "stdout",
     "output_type": "stream",
     "text": [
      "0\n",
      "1\n",
      "2\n"
     ]
    }
   ],
   "source": [
    "a=[1,2,2]\n",
    "for i in range(len(a)):\n",
    "    if a==a[-1]:\n",
    "        i+=1\n",
    "        print(i)\n",
    "    else:\n",
    "        print(i)"
   ]
  },
  {
   "cell_type": "code",
   "execution_count": 12,
   "id": "e7777ecc",
   "metadata": {},
   "outputs": [
    {
     "name": "stdout",
     "output_type": "stream",
     "text": [
      "[2, 4, 2]\n"
     ]
    }
   ],
   "source": [
    "a=[2,3,2]\n",
    "for i in a:\n",
    "    b=i-1\n",
    "if a[b]<9:\n",
    "    a[b]+=1\n",
    "print(a)"
   ]
  },
  {
   "cell_type": "code",
   "execution_count": 3,
   "id": "7298c1c7",
   "metadata": {},
   "outputs": [
    {
     "name": "stdout",
     "output_type": "stream",
     "text": [
      "400\n"
     ]
    }
   ],
   "source": [
    "def decor1(func):\n",
    "    def inner():\n",
    "        x=func()\n",
    "        return x*x\n",
    "    return inner\n",
    "def decor(func):\n",
    "    def inner():\n",
    "        x=func()\n",
    "        return 2*x\n",
    "    return inner\n",
    "@decor1\n",
    "@decor\n",
    "def num():\n",
    "    return 10\n",
    "print(num())"
   ]
  },
  {
   "cell_type": "code",
   "execution_count": 11,
   "id": "6b7ee155",
   "metadata": {},
   "outputs": [
    {
     "name": "stdout",
     "output_type": "stream",
     "text": [
      "40\n"
     ]
    }
   ],
   "source": [
    "x=50\n",
    "y=40\n",
    "print(x and y)"
   ]
  },
  {
   "cell_type": "code",
   "execution_count": 20,
   "id": "c7350d3e",
   "metadata": {},
   "outputs": [],
   "source": []
  },
  {
   "cell_type": "code",
   "execution_count": null,
   "id": "01dacdd7",
   "metadata": {},
   "outputs": [],
   "source": []
  },
  {
   "cell_type": "code",
   "execution_count": null,
   "id": "9e056031",
   "metadata": {},
   "outputs": [],
   "source": []
  },
  {
   "cell_type": "code",
   "execution_count": null,
   "id": "cf0dc79a",
   "metadata": {},
   "outputs": [],
   "source": []
  },
  {
   "cell_type": "code",
   "execution_count": null,
   "id": "223d680c",
   "metadata": {},
   "outputs": [],
   "source": []
  },
  {
   "cell_type": "code",
   "execution_count": null,
   "id": "7c9f8ae2",
   "metadata": {},
   "outputs": [],
   "source": []
  },
  {
   "cell_type": "code",
   "execution_count": null,
   "id": "ae2728f3",
   "metadata": {},
   "outputs": [],
   "source": []
  },
  {
   "cell_type": "code",
   "execution_count": null,
   "id": "2951f0b7",
   "metadata": {},
   "outputs": [],
   "source": []
  },
  {
   "cell_type": "code",
   "execution_count": null,
   "id": "67d9ced5",
   "metadata": {},
   "outputs": [],
   "source": []
  },
  {
   "cell_type": "code",
   "execution_count": null,
   "id": "b24ed598",
   "metadata": {},
   "outputs": [],
   "source": []
  },
  {
   "cell_type": "code",
   "execution_count": null,
   "id": "da071c23",
   "metadata": {},
   "outputs": [],
   "source": []
  },
  {
   "cell_type": "code",
   "execution_count": null,
   "id": "778dc324",
   "metadata": {},
   "outputs": [],
   "source": []
  },
  {
   "cell_type": "code",
   "execution_count": null,
   "id": "f026d952",
   "metadata": {},
   "outputs": [],
   "source": []
  },
  {
   "cell_type": "code",
   "execution_count": 135,
   "id": "e9ecd0f9",
   "metadata": {},
   "outputs": [],
   "source": []
  },
  {
   "cell_type": "code",
   "execution_count": null,
   "id": "bb95e5c5",
   "metadata": {},
   "outputs": [],
   "source": []
  },
  {
   "cell_type": "code",
   "execution_count": null,
   "id": "fc37f4d6",
   "metadata": {},
   "outputs": [],
   "source": []
  },
  {
   "cell_type": "code",
   "execution_count": null,
   "id": "e4994bbc",
   "metadata": {},
   "outputs": [],
   "source": []
  },
  {
   "cell_type": "code",
   "execution_count": null,
   "id": "63daefaf",
   "metadata": {},
   "outputs": [],
   "source": []
  },
  {
   "cell_type": "code",
   "execution_count": null,
   "id": "ea698f2b",
   "metadata": {},
   "outputs": [],
   "source": []
  },
  {
   "cell_type": "code",
   "execution_count": null,
   "id": "d8d2b508",
   "metadata": {},
   "outputs": [],
   "source": []
  },
  {
   "cell_type": "code",
   "execution_count": null,
   "id": "59bd1674",
   "metadata": {},
   "outputs": [],
   "source": []
  },
  {
   "cell_type": "code",
   "execution_count": null,
   "id": "cfcf5558",
   "metadata": {},
   "outputs": [],
   "source": []
  },
  {
   "cell_type": "code",
   "execution_count": null,
   "id": "5ff1e96f",
   "metadata": {},
   "outputs": [],
   "source": []
  }
 ],
 "metadata": {
  "kernelspec": {
   "display_name": "Python 3 (ipykernel)",
   "language": "python",
   "name": "python3"
  },
  "language_info": {
   "codemirror_mode": {
    "name": "ipython",
    "version": 3
   },
   "file_extension": ".py",
   "mimetype": "text/x-python",
   "name": "python",
   "nbconvert_exporter": "python",
   "pygments_lexer": "ipython3",
   "version": "3.10.4"
  }
 },
 "nbformat": 4,
 "nbformat_minor": 5
}
